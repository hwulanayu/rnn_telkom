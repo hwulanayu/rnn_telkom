{
 "cells": [
  {
   "cell_type": "markdown",
   "metadata": {},
   "source": [
    "**Coursebook: Recurrent Neural Network (RNN) for Text Classification**\n",
    "- Course Length: 4.5 hours\n",
    "- Last Updated: August 2022\n",
    "\n",
    "___\n",
    "\n",
    "- Developed by [Algoritma](https://algorit.ma)'s product division and instructors team"
   ]
  },
  {
   "cell_type": "markdown",
   "metadata": {},
   "source": [
    "# Background\n",
    "The coursebook is part of the Digital Amoeba: Deep Learning in Python prepared by [Algoritma](https://algorit.ma/). The coursebook is intended for a restricted audience only, i.e. the individuals and organizations having received this coursebook directly from the training organization. It may not be reproduced, distributed, translated or adapted in any form outside these individuals and organizations without permission.\n",
    "\n",
    "Algoritma is a data science education center based in Jakarta. We organize workshops and training programs to help working professionals and students gain mastery in various data science sub-fields: data visualization, machine learning, data modeling, statistical inference etc."
   ]
  },
  {
   "cell_type": "markdown",
   "metadata": {},
   "source": [
    "**Course Objective**:\n",
    "\n",
    "**Sequence Models**\n",
    "- Bidirectional and Deep RNN\n",
    "- Gated Recurrent Unit (GRU)\n",
    "\n",
    "**Building RNN for Text Classification using Keras Tensorflow**\n",
    "- Celullar Service Provider Data Tweets: Sentiment Analysis of User Satisfaction Level of Indonesian Cellular Telecommunication Service Providers"
   ]
  },
  {
   "cell_type": "markdown",
   "metadata": {},
   "source": [
    "# Libraries"
   ]
  },
  {
   "cell_type": "code",
   "execution_count": 56,
   "metadata": {},
   "outputs": [],
   "source": [
    "# data analysis\n",
    "import numpy as np\n",
    "import pandas as pd\n",
    "\n",
    "# data visualization\n",
    "import matplotlib.pyplot as plt\n",
    "import seaborn as sns\n",
    "\n",
    "# modeling\n",
    "import tensorflow as tf\n",
    "import tensorflow.keras as keras\n",
    "\n",
    "# set seed\n",
    "import random\n",
    "random.seed(123)\n",
    "np.random.seed(123)\n",
    "tf.random.set_seed(123)\n",
    "\n",
    "import re\n",
    "import string\n",
    "from Sastrawi.Stemmer.StemmerFactory import StemmerFactory\n",
    "from sklearn.model_selection import train_test_split\n",
    "from tensorflow.keras.preprocessing.text import Tokenizer\n",
    "from tensorflow.keras.preprocessing.sequence import pad_sequences\n",
    "\n",
    "import keras\n",
    "from keras import Sequential\n",
    "from keras.layers import Embedding, LSTM, Bidirectional, GRU, Dense, Dropout\n",
    "from keras import regularizers\n",
    "from keras.initializers import Constant\n",
    "from tensorflow.keras.optimizers import Adam\n",
    "from keras.callbacks import ModelCheckpoint\n",
    "import pickle"
   ]
  },
  {
   "cell_type": "markdown",
   "metadata": {},
   "source": [
    "# Sentiment Analysis"
   ]
  },
  {
   "cell_type": "markdown",
   "metadata": {},
   "source": [
    "Sentiment Analysis is an analysis that is usually used to get sentiment information from the sentences contained in the text. In the world of Data Science, techniques or methods that can be used in sentiment analysis are usually referred to as **Natural Language Processing (NLP)**. The results of sentiment analysis using NLP can be grouped into three groups depending on their use, such as:\n",
    "\n",
    "* **Fine-grained:** This type of analysis allows someone to give an assessment of a text and the assessment has a range. This analysis is widely used to evaluate or review the services of a restaurant or the services of an e-commerce store.\n",
    "\n",
    "* **Emotion detection:** As the name implies, this analysis is used to find out the emotions of a person, for example, someone is happy, sad, angry or frustrated. However, this type of analysis is very subjective because everyone uses different words to express their emotions, for example: “Terrible! This food is really delicious”, the word severe in the sentence can be described as a positive word although usually the word severe tends to have a negative meaning.\n",
    " \n",
    "* **Aspect-based sentiment analysis:** This analysis technique can be used to determine whether a comment or sentence contains positive, negative and neutral aspects. This type of analysis is widely used to find out whether a news item about a particular stock contains negative or positive elements, because a news containing positive elements can affect a stock price to be higher and vice versa.\n",
    "\n",
    "> 💡 From the three uses described above, the focus of the use of sentiment analysis that will be dissected more deeply in this documentation is **aspect-based sentiment analysis**. We will try to use this type of analysis to find out whether a customer review has positive or negative aspects.\n",
    "\n",
    "Broadly speaking, to perform aspect-based sentiment analysis there are 2 steps that must be taken, namely, Data Pre-Processing & Model Preparation.\n",
    "\n",
    "* **Data Pre-Processing:** Text preprocessing is a process for selecting text data to become more structured by going through a series of stages. In addition, text preprocessing is an implementation of text mining. Text mining itself is a data mining activity, where data is usually taken in the form of text sourced from documents that have goals to find keywords that represent a set of documents so that later analysis of the relationship between these documents can be carried out.\n",
    "\n",
    "* **Model Preparation:** In this step we will start working with the model that will be used. Some of the steps that will be carried out first here are cross validation, model evaluation & model interpretation. The details of each stage that will be carried out in the Model Preparation step will be explained in more detail in each of its sub-sections."
   ]
  },
  {
   "cell_type": "markdown",
   "metadata": {},
   "source": [
    "# Use Case: Sentiment Classification with RNN"
   ]
  },
  {
   "cell_type": "markdown",
   "metadata": {},
   "source": [
    "In this section, we will implement RNN on sentiment analysis dataset collected from the social networking site Twitter related to public sentiment towards cellular service providers in Indonesia totaling 300 tweets. The dataset has 2 classes of sentiment, namely positive and negative. Prior to publication, this dataset has been pre-processed as follows:\n",
    "\n",
    "- Replacing service provider name/identity with PROVIDER_NAME tag \n",
    "- Replacing URL addresses with URL tag \n",
    "- Replacing the user's @mention with the USER_MENTION tag\n",
    "- Replacing the product name with the PRODUCT_NAME tag\n",
    "\n",
    "> Dataset reference: [Rofiqoh, U., Perdana, R.S., & Fauzi, M.A. (2017) research](https://github.com/rizalespe/Dataset-Sentimen-Analisis-Bahasa-Indonesia/blob/master/dataset_tweet_sentiment_cellular_service_provider.csv)"
   ]
  },
  {
   "cell_type": "markdown",
   "metadata": {},
   "source": [
    "## Load Dataset\n",
    "\n",
    "Load `dataset_tweet_sentiment_cellular_service_provider.csv` using `pandas`"
   ]
  },
  {
   "cell_type": "code",
   "execution_count": 57,
   "metadata": {},
   "outputs": [
    {
     "data": {
      "text/html": [
       "<div>\n",
       "<style scoped>\n",
       "    .dataframe tbody tr th:only-of-type {\n",
       "        vertical-align: middle;\n",
       "    }\n",
       "\n",
       "    .dataframe tbody tr th {\n",
       "        vertical-align: top;\n",
       "    }\n",
       "\n",
       "    .dataframe thead th {\n",
       "        text-align: right;\n",
       "    }\n",
       "</style>\n",
       "<table border=\"1\" class=\"dataframe\">\n",
       "  <thead>\n",
       "    <tr style=\"text-align: right;\">\n",
       "      <th></th>\n",
       "      <th>Sentiment</th>\n",
       "      <th>Text Tweet</th>\n",
       "    </tr>\n",
       "  </thead>\n",
       "  <tbody>\n",
       "    <tr>\n",
       "      <th>0</th>\n",
       "      <td>positive</td>\n",
       "      <td>&lt;USER_MENTION&gt; #BOIKOT_&lt;PROVIDER_NAME&gt; Gunakan...</td>\n",
       "    </tr>\n",
       "    <tr>\n",
       "      <th>1</th>\n",
       "      <td>positive</td>\n",
       "      <td>Saktinya balik lagi, alhamdulillah :v &lt;PROVIDE...</td>\n",
       "    </tr>\n",
       "    <tr>\n",
       "      <th>2</th>\n",
       "      <td>negative</td>\n",
       "      <td>Selamat pagi &lt;PROVIDER_NAME&gt;  bisa bantu kenap...</td>\n",
       "    </tr>\n",
       "    <tr>\n",
       "      <th>3</th>\n",
       "      <td>negative</td>\n",
       "      <td>Dear &lt;PROVIDER_NAME&gt; akhir2 ini jaringan data ...</td>\n",
       "    </tr>\n",
       "    <tr>\n",
       "      <th>4</th>\n",
       "      <td>negative</td>\n",
       "      <td>Selamat malam PENDUSTA &lt;PROVIDER_NAME&gt;</td>\n",
       "    </tr>\n",
       "  </tbody>\n",
       "</table>\n",
       "</div>"
      ],
      "text/plain": [
       "  Sentiment                                         Text Tweet\n",
       "0  positive  <USER_MENTION> #BOIKOT_<PROVIDER_NAME> Gunakan...\n",
       "1  positive  Saktinya balik lagi, alhamdulillah :v <PROVIDE...\n",
       "2  negative  Selamat pagi <PROVIDER_NAME>  bisa bantu kenap...\n",
       "3  negative  Dear <PROVIDER_NAME> akhir2 ini jaringan data ...\n",
       "4  negative            Selamat malam PENDUSTA <PROVIDER_NAME> "
      ]
     },
     "execution_count": 57,
     "metadata": {},
     "output_type": "execute_result"
    }
   ],
   "source": [
    "df = pd.read_csv('data_input/dataset_tweet_sentiment_cellular_service_provider.csv').drop(columns='Id')\n",
    "df.head()"
   ]
  },
  {
   "cell_type": "markdown",
   "metadata": {},
   "source": [
    "Let's explore the proportion of target variable `Sentiment`"
   ]
  },
  {
   "cell_type": "code",
   "execution_count": 58,
   "metadata": {},
   "outputs": [
    {
     "data": {
      "text/html": [
       "<div>\n",
       "<style scoped>\n",
       "    .dataframe tbody tr th:only-of-type {\n",
       "        vertical-align: middle;\n",
       "    }\n",
       "\n",
       "    .dataframe tbody tr th {\n",
       "        vertical-align: top;\n",
       "    }\n",
       "\n",
       "    .dataframe thead th {\n",
       "        text-align: right;\n",
       "    }\n",
       "</style>\n",
       "<table border=\"1\" class=\"dataframe\">\n",
       "  <thead>\n",
       "    <tr style=\"text-align: right;\">\n",
       "      <th></th>\n",
       "      <th>Text Tweet</th>\n",
       "    </tr>\n",
       "    <tr>\n",
       "      <th>Sentiment</th>\n",
       "      <th></th>\n",
       "    </tr>\n",
       "  </thead>\n",
       "  <tbody>\n",
       "    <tr>\n",
       "      <th>negative</th>\n",
       "      <td>0.536667</td>\n",
       "    </tr>\n",
       "    <tr>\n",
       "      <th>positive</th>\n",
       "      <td>0.463333</td>\n",
       "    </tr>\n",
       "  </tbody>\n",
       "</table>\n",
       "</div>"
      ],
      "text/plain": [
       "           Text Tweet\n",
       "Sentiment            \n",
       "negative     0.536667\n",
       "positive     0.463333"
      ]
     },
     "execution_count": 58,
     "metadata": {},
     "output_type": "execute_result"
    }
   ],
   "source": [
    "df.groupby('Sentiment').count() / df.shape[0]"
   ]
  },
  {
   "cell_type": "markdown",
   "metadata": {},
   "source": [
    "Visualize it:"
   ]
  },
  {
   "cell_type": "code",
   "execution_count": 59,
   "metadata": {},
   "outputs": [
    {
     "data": {
      "text/plain": [
       "<AxesSubplot:>"
      ]
     },
     "execution_count": 59,
     "metadata": {},
     "output_type": "execute_result"
    },
    {
     "data": {
      "image/png": "[encoded data removed]",
      "text/plain": [
       "<Figure size 432x288 with 1 Axes>"
      ]
     },
     "metadata": {
      "needs_background": "light"
     },
     "output_type": "display_data"
    }
   ],
   "source": [
    "df['Sentiment'].value_counts().plot(kind='bar', rot=0)"
   ]
  },
  {
   "cell_type": "markdown",
   "metadata": {},
   "source": [
    "> 💡 Note: We often expect the proportion of target variable to be balanced, so that our model can learn equally."
   ]
  },
  {
   "cell_type": "markdown",
   "metadata": {},
   "source": [
    "## Target Preprocessing\n",
    "\n",
    "To fit the target ($y$) in keras, we must encode the label to numeric values. We map the 'positive' label to 1 and 'negative' label to 0."
   ]
  },
  {
   "cell_type": "code",
   "execution_count": 60,
   "metadata": {},
   "outputs": [
    {
     "data": {
      "text/html": [
       "<div>\n",
       "<style scoped>\n",
       "    .dataframe tbody tr th:only-of-type {\n",
       "        vertical-align: middle;\n",
       "    }\n",
       "\n",
       "    .dataframe tbody tr th {\n",
       "        vertical-align: top;\n",
       "    }\n",
       "\n",
       "    .dataframe thead th {\n",
       "        text-align: right;\n",
       "    }\n",
       "</style>\n",
       "<table border=\"1\" class=\"dataframe\">\n",
       "  <thead>\n",
       "    <tr style=\"text-align: right;\">\n",
       "      <th></th>\n",
       "      <th>Sentiment</th>\n",
       "      <th>Text Tweet</th>\n",
       "    </tr>\n",
       "  </thead>\n",
       "  <tbody>\n",
       "    <tr>\n",
       "      <th>0</th>\n",
       "      <td>1</td>\n",
       "      <td>&lt;USER_MENTION&gt; #BOIKOT_&lt;PROVIDER_NAME&gt; Gunakan...</td>\n",
       "    </tr>\n",
       "    <tr>\n",
       "      <th>1</th>\n",
       "      <td>1</td>\n",
       "      <td>Saktinya balik lagi, alhamdulillah :v &lt;PROVIDE...</td>\n",
       "    </tr>\n",
       "    <tr>\n",
       "      <th>2</th>\n",
       "      <td>0</td>\n",
       "      <td>Selamat pagi &lt;PROVIDER_NAME&gt;  bisa bantu kenap...</td>\n",
       "    </tr>\n",
       "    <tr>\n",
       "      <th>3</th>\n",
       "      <td>0</td>\n",
       "      <td>Dear &lt;PROVIDER_NAME&gt; akhir2 ini jaringan data ...</td>\n",
       "    </tr>\n",
       "    <tr>\n",
       "      <th>4</th>\n",
       "      <td>0</td>\n",
       "      <td>Selamat malam PENDUSTA &lt;PROVIDER_NAME&gt;</td>\n",
       "    </tr>\n",
       "  </tbody>\n",
       "</table>\n",
       "</div>"
      ],
      "text/plain": [
       "   Sentiment                                         Text Tweet\n",
       "0          1  <USER_MENTION> #BOIKOT_<PROVIDER_NAME> Gunakan...\n",
       "1          1  Saktinya balik lagi, alhamdulillah :v <PROVIDE...\n",
       "2          0  Selamat pagi <PROVIDER_NAME>  bisa bantu kenap...\n",
       "3          0  Dear <PROVIDER_NAME> akhir2 ini jaringan data ...\n",
       "4          0            Selamat malam PENDUSTA <PROVIDER_NAME> "
      ]
     },
     "execution_count": 60,
     "metadata": {},
     "output_type": "execute_result"
    }
   ],
   "source": [
    "df['Sentiment'] = df['Sentiment'].map({'positive': 1, 'negative': 0})\n",
    "df.head()"
   ]
  },
  {
   "cell_type": "markdown",
   "metadata": {},
   "source": [
    "## Text Preprocessing"
   ]
  },
  {
   "cell_type": "markdown",
   "metadata": {},
   "source": [
    "Text preprocessing is a method to clean the text data and make it ready to feed data to the model. Text data contains noise in various forms like emotions, punctuation, text in a different case. Raw text data might contain unwanted or unimportant text due to which our results might not give efficient accuracy, and might make it hard to understand and analyze. We should not feed raw data without preprocessing to build models because **the preprocessing of text directly improves the model's performance**. If we feed data without performing any text preprocessing techniques, the build models will not learn the real significance of the data. In some cases, if we feed raw data without any preprocessing techniques the models will get confused and give random results. "
   ]
  },
  {
   "cell_type": "markdown",
   "metadata": {},
   "source": [
    "**💬 Discussion**\n",
    "\n",
    "In your opinion, by looking at the data we have, what kind of text preprocessing do we need to do?\n",
    "\n",
    "*Answer:*\n",
    "> - remove words or clause that doesn't affect sentiment in this particular data, e.g., `selamat pagi`, `selamat malam`\n",
    "> - URL, punctuation, symbols, emoticon\n",
    "> - remove stopwords (words that often appear, and don't really have any meaning) e.g., `di`, `ini`, `itu`, `yang`\n",
    "> - handling `oov` (*out of vocabulary*) words"
   ]
  },
  {
   "cell_type": "markdown",
   "metadata": {},
   "source": [
    "### Case Folding"
   ]
  },
  {
   "cell_type": "markdown",
   "metadata": {},
   "source": [
    "Case folding is the process of uniforming the text of the letters on all documents in the corpus. In text classification, case folding is generally done by uniforming the document text in the corpus into all **lowercase letters**. Lower case folding is done to homogenize all letterforms into lowercase letters so that there are no differences in words/terms during feature extraction due to differences in letterforms."
   ]
  },
  {
   "cell_type": "code",
   "execution_count": 61,
   "metadata": {},
   "outputs": [
    {
     "data": {
      "text/html": [
       "<div>\n",
       "<style scoped>\n",
       "    .dataframe tbody tr th:only-of-type {\n",
       "        vertical-align: middle;\n",
       "    }\n",
       "\n",
       "    .dataframe tbody tr th {\n",
       "        vertical-align: top;\n",
       "    }\n",
       "\n",
       "    .dataframe thead th {\n",
       "        text-align: right;\n",
       "    }\n",
       "</style>\n",
       "<table border=\"1\" class=\"dataframe\">\n",
       "  <thead>\n",
       "    <tr style=\"text-align: right;\">\n",
       "      <th></th>\n",
       "      <th>Sentiment</th>\n",
       "      <th>Text Tweet</th>\n",
       "      <th>text_lower</th>\n",
       "    </tr>\n",
       "  </thead>\n",
       "  <tbody>\n",
       "    <tr>\n",
       "      <th>0</th>\n",
       "      <td>1</td>\n",
       "      <td>&lt;USER_MENTION&gt; #BOIKOT_&lt;PROVIDER_NAME&gt; Gunakan...</td>\n",
       "      <td>&lt;user_mention&gt; #boikot_&lt;provider_name&gt; gunakan...</td>\n",
       "    </tr>\n",
       "    <tr>\n",
       "      <th>1</th>\n",
       "      <td>1</td>\n",
       "      <td>Saktinya balik lagi, alhamdulillah :v &lt;PROVIDE...</td>\n",
       "      <td>saktinya balik lagi, alhamdulillah :v &lt;provide...</td>\n",
       "    </tr>\n",
       "    <tr>\n",
       "      <th>2</th>\n",
       "      <td>0</td>\n",
       "      <td>Selamat pagi &lt;PROVIDER_NAME&gt;  bisa bantu kenap...</td>\n",
       "      <td>selamat pagi &lt;provider_name&gt;  bisa bantu kenap...</td>\n",
       "    </tr>\n",
       "    <tr>\n",
       "      <th>3</th>\n",
       "      <td>0</td>\n",
       "      <td>Dear &lt;PROVIDER_NAME&gt; akhir2 ini jaringan data ...</td>\n",
       "      <td>dear &lt;provider_name&gt; akhir2 ini jaringan data ...</td>\n",
       "    </tr>\n",
       "    <tr>\n",
       "      <th>4</th>\n",
       "      <td>0</td>\n",
       "      <td>Selamat malam PENDUSTA &lt;PROVIDER_NAME&gt;</td>\n",
       "      <td>selamat malam pendusta &lt;provider_name&gt;</td>\n",
       "    </tr>\n",
       "  </tbody>\n",
       "</table>\n",
       "</div>"
      ],
      "text/plain": [
       "   Sentiment                                         Text Tweet  \\\n",
       "0          1  <USER_MENTION> #BOIKOT_<PROVIDER_NAME> Gunakan...   \n",
       "1          1  Saktinya balik lagi, alhamdulillah :v <PROVIDE...   \n",
       "2          0  Selamat pagi <PROVIDER_NAME>  bisa bantu kenap...   \n",
       "3          0  Dear <PROVIDER_NAME> akhir2 ini jaringan data ...   \n",
       "4          0            Selamat malam PENDUSTA <PROVIDER_NAME>    \n",
       "\n",
       "                                          text_lower  \n",
       "0  <user_mention> #boikot_<provider_name> gunakan...  \n",
       "1  saktinya balik lagi, alhamdulillah :v <provide...  \n",
       "2  selamat pagi <provider_name>  bisa bantu kenap...  \n",
       "3  dear <provider_name> akhir2 ini jaringan data ...  \n",
       "4            selamat malam pendusta <provider_name>   "
      ]
     },
     "execution_count": 61,
     "metadata": {},
     "output_type": "execute_result"
    }
   ],
   "source": [
    "df['text_lower'] = df['Text Tweet'].str.lower()\n",
    "df.head()"
   ]
  },
  {
   "cell_type": "markdown",
   "metadata": {},
   "source": [
    "> 💡 **Tips:** In preprocessing text data, the best practice is to **create a new column for each preprocessing**. This practice is helpful when we want to refine the evaluation of the model with different preprocessing steps."
   ]
  },
  {
   "cell_type": "markdown",
   "metadata": {},
   "source": [
    "### Text Cleansing"
   ]
  },
  {
   "cell_type": "markdown",
   "metadata": {},
   "source": [
    "Text cleansing consists of **removing unnecessary data attributes** such as certain punctuation marks (period, comma, semicolon, quotes, and so on) and Uniform Resource Locator (URL) addresses. Specifically for Twitter data, several other attributes are not needed in the classification process, namely the RT (re-tweet) character and username (the name of the account that wrote the tweet). The URL, RT/mention, and product name in this dataset have been replaced with tags.\n",
    "\n",
    "> During text cleansing, it is common to use **regular expression (regex)**. It is a sequence of characters that specifies a search pattern in text. Usually such patterns are used by string-searching algorithms for \"find\" or \"find and replace\" operations on strings, or for input validation. Here are references to study more about regex:\n",
    "> - https://www.w3schools.com/python/python_regex.asp\n",
    "> - https://regex101.com/"
   ]
  },
  {
   "cell_type": "code",
   "execution_count": 62,
   "metadata": {},
   "outputs": [],
   "source": [
    "import re # regex\n",
    "import string"
   ]
  },
  {
   "cell_type": "code",
   "execution_count": 63,
   "metadata": {},
   "outputs": [
    {
     "data": {
      "text/plain": [
       "'testes123  ...'"
      ]
     },
     "execution_count": 63,
     "metadata": {},
     "output_type": "execute_result"
    }
   ],
   "source": [
    "text = \"testes123 <provider_name> ...\"\n",
    "text.replace('<provider_name>', '')"
   ]
  },
  {
   "cell_type": "code",
   "execution_count": 64,
   "metadata": {},
   "outputs": [
    {
     "data": {
      "text/plain": [
       "'!\"#$%&\\'()*+,-./:;<=>?@[\\\\]^_`{|}~'"
      ]
     },
     "execution_count": 64,
     "metadata": {},
     "output_type": "execute_result"
    }
   ],
   "source": [
    "string.punctuation"
   ]
  },
  {
   "cell_type": "markdown",
   "metadata": {},
   "source": [
    "The function below is a custom function that can be customized based on the context of the text data used."
   ]
  },
  {
   "cell_type": "code",
   "execution_count": 65,
   "metadata": {},
   "outputs": [],
   "source": [
    "# note: this function is customizable depends on your case\n",
    "def text_cleansing(text):\n",
    "    \n",
    "    # remove tags\n",
    "    text = text.replace('<provider_name>', '')\n",
    "    text = text.replace('<url>', '')\n",
    "    text = text.replace('<user_mention>', '')\n",
    "    text = text.replace('<product_name>', '')\n",
    "    \n",
    "    # remove non ASCII (emoticon, chinese word, etc)\n",
    "    text = text.encode('ascii', 'replace').decode('ascii')\n",
    "    \n",
    "    # remove digits (using regex) -> subtitute\n",
    "    text = re.sub('\\d+', '', text)\n",
    "    \n",
    "    # remove punctuation, reference: https://stackoverflow.com/a/34294398\n",
    "    text = text.translate(str.maketrans('', '', string.punctuation))\n",
    "    \n",
    "    # remove whitespace in the beginning and end of sentence\n",
    "    text = text.strip()\n",
    "    \n",
    "    # remove extra whitespace in the middle of sentence (using regex)\n",
    "    text = re.sub('\\s+', ' ', text)\n",
    "    \n",
    "    return text"
   ]
  },
  {
   "cell_type": "markdown",
   "metadata": {},
   "source": [
    "Let's us see how the function `text_cleansing` works on `sample_text`"
   ]
  },
  {
   "cell_type": "code",
   "execution_count": 66,
   "metadata": {},
   "outputs": [
    {
     "data": {
      "text/plain": [
       "'keluhan gak ditanggapi. bikin emosi aja. pulsaku dicuri terus. soak deh. masa setiap hari pulsa berkurang 1500-2100 bisa 2-3*/hari'"
      ]
     },
     "execution_count": 66,
     "metadata": {},
     "output_type": "execute_result"
    }
   ],
   "source": [
    "sample_text = df['text_lower'][8]\n",
    "sample_text"
   ]
  },
  {
   "cell_type": "code",
   "execution_count": 67,
   "metadata": {},
   "outputs": [
    {
     "data": {
      "text/plain": [
       "'keluhan gak ditanggapi bikin emosi aja pulsaku dicuri terus soak deh masa setiap hari pulsa berkurang bisa hari'"
      ]
     },
     "execution_count": 67,
     "metadata": {},
     "output_type": "execute_result"
    }
   ],
   "source": [
    "sample_text_clean = text_cleansing(sample_text)\n",
    "sample_text_clean"
   ]
  },
  {
   "cell_type": "markdown",
   "metadata": {},
   "source": [
    "We can iteratively apply a function to a column by using `.apply()` method"
   ]
  },
  {
   "cell_type": "code",
   "execution_count": 68,
   "metadata": {},
   "outputs": [
    {
     "data": {
      "text/html": [
       "<div>\n",
       "<style scoped>\n",
       "    .dataframe tbody tr th:only-of-type {\n",
       "        vertical-align: middle;\n",
       "    }\n",
       "\n",
       "    .dataframe tbody tr th {\n",
       "        vertical-align: top;\n",
       "    }\n",
       "\n",
       "    .dataframe thead th {\n",
       "        text-align: right;\n",
       "    }\n",
       "</style>\n",
       "<table border=\"1\" class=\"dataframe\">\n",
       "  <thead>\n",
       "    <tr style=\"text-align: right;\">\n",
       "      <th></th>\n",
       "      <th>Sentiment</th>\n",
       "      <th>Text Tweet</th>\n",
       "      <th>text_lower</th>\n",
       "      <th>text_clean</th>\n",
       "    </tr>\n",
       "  </thead>\n",
       "  <tbody>\n",
       "    <tr>\n",
       "      <th>0</th>\n",
       "      <td>1</td>\n",
       "      <td>&lt;USER_MENTION&gt; #BOIKOT_&lt;PROVIDER_NAME&gt; Gunakan...</td>\n",
       "      <td>&lt;user_mention&gt; #boikot_&lt;provider_name&gt; gunakan...</td>\n",
       "      <td>boikot gunakan produk bangsa sendiri</td>\n",
       "    </tr>\n",
       "    <tr>\n",
       "      <th>1</th>\n",
       "      <td>1</td>\n",
       "      <td>Saktinya balik lagi, alhamdulillah :v &lt;PROVIDE...</td>\n",
       "      <td>saktinya balik lagi, alhamdulillah :v &lt;provide...</td>\n",
       "      <td>saktinya balik lagi alhamdulillah v</td>\n",
       "    </tr>\n",
       "    <tr>\n",
       "      <th>2</th>\n",
       "      <td>0</td>\n",
       "      <td>Selamat pagi &lt;PROVIDER_NAME&gt;  bisa bantu kenap...</td>\n",
       "      <td>selamat pagi &lt;provider_name&gt;  bisa bantu kenap...</td>\n",
       "      <td>selamat pagi bisa bantu kenapa di dalam kamar ...</td>\n",
       "    </tr>\n",
       "    <tr>\n",
       "      <th>3</th>\n",
       "      <td>0</td>\n",
       "      <td>Dear &lt;PROVIDER_NAME&gt; akhir2 ini jaringan data ...</td>\n",
       "      <td>dear &lt;provider_name&gt; akhir2 ini jaringan data ...</td>\n",
       "      <td>dear akhir ini jaringan data lemot banget pada...</td>\n",
       "    </tr>\n",
       "    <tr>\n",
       "      <th>4</th>\n",
       "      <td>0</td>\n",
       "      <td>Selamat malam PENDUSTA &lt;PROVIDER_NAME&gt;</td>\n",
       "      <td>selamat malam pendusta &lt;provider_name&gt;</td>\n",
       "      <td>selamat malam pendusta</td>\n",
       "    </tr>\n",
       "  </tbody>\n",
       "</table>\n",
       "</div>"
      ],
      "text/plain": [
       "   Sentiment                                         Text Tweet  \\\n",
       "0          1  <USER_MENTION> #BOIKOT_<PROVIDER_NAME> Gunakan...   \n",
       "1          1  Saktinya balik lagi, alhamdulillah :v <PROVIDE...   \n",
       "2          0  Selamat pagi <PROVIDER_NAME>  bisa bantu kenap...   \n",
       "3          0  Dear <PROVIDER_NAME> akhir2 ini jaringan data ...   \n",
       "4          0            Selamat malam PENDUSTA <PROVIDER_NAME>    \n",
       "\n",
       "                                          text_lower  \\\n",
       "0  <user_mention> #boikot_<provider_name> gunakan...   \n",
       "1  saktinya balik lagi, alhamdulillah :v <provide...   \n",
       "2  selamat pagi <provider_name>  bisa bantu kenap...   \n",
       "3  dear <provider_name> akhir2 ini jaringan data ...   \n",
       "4            selamat malam pendusta <provider_name>    \n",
       "\n",
       "                                          text_clean  \n",
       "0               boikot gunakan produk bangsa sendiri  \n",
       "1                saktinya balik lagi alhamdulillah v  \n",
       "2  selamat pagi bisa bantu kenapa di dalam kamar ...  \n",
       "3  dear akhir ini jaringan data lemot banget pada...  \n",
       "4                             selamat malam pendusta  "
      ]
     },
     "execution_count": 68,
     "metadata": {},
     "output_type": "execute_result"
    }
   ],
   "source": [
    "df['text_clean'] = df['text_lower'].apply(lambda x: text_cleansing(x))\n",
    "df.head()"
   ]
  },
  {
   "cell_type": "markdown",
   "metadata": {},
   "source": [
    "### Text Normalization"
   ]
  },
  {
   "cell_type": "markdown",
   "metadata": {},
   "source": [
    "Furthermore, the data preprocessing is carried out with the text normalization process to change the **informal word forms into formal ones**. Informal word forms that are often used by Indonesian netizens in writing tweets include:\n",
    "\n",
    "1. words that show feelings (eg hiks (sad), wkwkwk/wkwk (laughs), huhuhu (crying), and others);\n",
    "2. repetition of characters to highlight certain words (eg: lamaaaa (long time), sorryyyyy (sorry), and others);\n",
    "3. omission of vowels (eg no (no), don't (don't), and others);\n",
    "4. the use of slang words (eg: ciyus (serious), dah (already), and others);\n",
    "5. replacement of letters with numbers (eg s4ya (me), disk0n (discounts), and others).\n",
    "\n",
    "> We use typo dictionary and abbreviations obtained from a combination of typo/abbreviation dictionaries from [Ibrohim dan Budi (2019)](https://github.com/okkyibrohim/id-multi-label-hate-speech-and-abusive-language-detection)."
   ]
  },
  {
   "cell_type": "code",
   "execution_count": 69,
   "metadata": {},
   "outputs": [
    {
     "data": {
      "text/plain": [
       "15166"
      ]
     },
     "execution_count": 69,
     "metadata": {},
     "output_type": "execute_result"
    }
   ],
   "source": [
    "# note: the dictionary is customizable depends on your case\n",
    "normalized_word = pd.read_csv('data_input/new_kamusalay.csv', header=None)\n",
    "data_dict = dict(zip(normalized_word[0], normalized_word[1]))\n",
    "len(data_dict)"
   ]
  },
  {
   "cell_type": "markdown",
   "metadata": {},
   "source": [
    "We define function `normalize_text` to map an informal to formal sentence."
   ]
  },
  {
   "cell_type": "code",
   "execution_count": 70,
   "metadata": {},
   "outputs": [],
   "source": [
    "def normalize_text(text):\n",
    "    return ' '.join(data_dict.get(word, word) for word in text.split())"
   ]
  },
  {
   "cell_type": "markdown",
   "metadata": {},
   "source": [
    "The function above is written using [Python's list comprehension](https://docs.python.org/3/tutorial/datastructures.html#list-comprehensions). If you are not familiar with that, you can refer to the following version:\n",
    "\n",
    "```{python}\n",
    "def normalize_text(text):\n",
    "    # temporary list\n",
    "    result = []\n",
    "    \n",
    "    # split sentence into list of words\n",
    "    split_text = text.split()\n",
    "    \n",
    "    # loop for each word\n",
    "    for word in split_text:\n",
    "        new_word = data_dict.get(word, word) # return normalized word if it exists in the dictionary\n",
    "        result.append(new_word)\n",
    "    \n",
    "    # combine list of words into sentence\n",
    "    combine_text = ''.join(result)\n",
    "    \n",
    "    return combine_text\n",
    "```"
   ]
  },
  {
   "cell_type": "code",
   "execution_count": 71,
   "metadata": {},
   "outputs": [
    {
     "data": {
      "text/plain": [
       "'keluhan gak ditanggapi bikin emosi aja pulsaku dicuri terus soak deh masa setiap hari pulsa berkurang bisa hari'"
      ]
     },
     "execution_count": 71,
     "metadata": {},
     "output_type": "execute_result"
    }
   ],
   "source": [
    "# before\n",
    "sample_text_clean"
   ]
  },
  {
   "cell_type": "code",
   "execution_count": 72,
   "metadata": {},
   "outputs": [
    {
     "data": {
      "text/plain": [
       "'keluhan tidak ditanggapi bikin emosi saja pulsaku dicuri terus soak deh masa setiap hari pulsa berkurang bisa hari'"
      ]
     },
     "execution_count": 72,
     "metadata": {},
     "output_type": "execute_result"
    }
   ],
   "source": [
    "# after\n",
    "sample_text_normalized = normalize_text(sample_text_clean)\n",
    "sample_text_normalized"
   ]
  },
  {
   "cell_type": "markdown",
   "metadata": {},
   "source": [
    "We can iteratively apply a function to a column by using `.apply()` method"
   ]
  },
  {
   "cell_type": "code",
   "execution_count": 73,
   "metadata": {},
   "outputs": [],
   "source": [
    "df['text_normalized'] = df['text_clean'].apply(lambda x: normalize_text(x))"
   ]
  },
  {
   "cell_type": "code",
   "execution_count": 74,
   "metadata": {},
   "outputs": [
    {
     "data": {
      "text/html": [
       "<div>\n",
       "<style scoped>\n",
       "    .dataframe tbody tr th:only-of-type {\n",
       "        vertical-align: middle;\n",
       "    }\n",
       "\n",
       "    .dataframe tbody tr th {\n",
       "        vertical-align: top;\n",
       "    }\n",
       "\n",
       "    .dataframe thead th {\n",
       "        text-align: right;\n",
       "    }\n",
       "</style>\n",
       "<table border=\"1\" class=\"dataframe\">\n",
       "  <thead>\n",
       "    <tr style=\"text-align: right;\">\n",
       "      <th></th>\n",
       "      <th>Sentiment</th>\n",
       "      <th>Text Tweet</th>\n",
       "      <th>text_lower</th>\n",
       "      <th>text_clean</th>\n",
       "      <th>text_normalized</th>\n",
       "    </tr>\n",
       "  </thead>\n",
       "  <tbody>\n",
       "    <tr>\n",
       "      <th>0</th>\n",
       "      <td>1</td>\n",
       "      <td>&lt;USER_MENTION&gt; #BOIKOT_&lt;PROVIDER_NAME&gt; Gunakan...</td>\n",
       "      <td>&lt;user_mention&gt; #boikot_&lt;provider_name&gt; gunakan...</td>\n",
       "      <td>boikot gunakan produk bangsa sendiri</td>\n",
       "      <td>boikot gunakan produk bangsa sendiri</td>\n",
       "    </tr>\n",
       "    <tr>\n",
       "      <th>1</th>\n",
       "      <td>1</td>\n",
       "      <td>Saktinya balik lagi, alhamdulillah :v &lt;PROVIDE...</td>\n",
       "      <td>saktinya balik lagi, alhamdulillah :v &lt;provide...</td>\n",
       "      <td>saktinya balik lagi alhamdulillah v</td>\n",
       "      <td>saktinya balik lagi alhamdulillah v</td>\n",
       "    </tr>\n",
       "    <tr>\n",
       "      <th>2</th>\n",
       "      <td>0</td>\n",
       "      <td>Selamat pagi &lt;PROVIDER_NAME&gt;  bisa bantu kenap...</td>\n",
       "      <td>selamat pagi &lt;provider_name&gt;  bisa bantu kenap...</td>\n",
       "      <td>selamat pagi bisa bantu kenapa di dalam kamar ...</td>\n",
       "      <td>selamat pagi bisa bantu kenapa di dalam kamar ...</td>\n",
       "    </tr>\n",
       "    <tr>\n",
       "      <th>3</th>\n",
       "      <td>0</td>\n",
       "      <td>Dear &lt;PROVIDER_NAME&gt; akhir2 ini jaringan data ...</td>\n",
       "      <td>dear &lt;provider_name&gt; akhir2 ini jaringan data ...</td>\n",
       "      <td>dear akhir ini jaringan data lemot banget pada...</td>\n",
       "      <td>dear akhir ini jaringan data lemot banget pada...</td>\n",
       "    </tr>\n",
       "    <tr>\n",
       "      <th>4</th>\n",
       "      <td>0</td>\n",
       "      <td>Selamat malam PENDUSTA &lt;PROVIDER_NAME&gt;</td>\n",
       "      <td>selamat malam pendusta &lt;provider_name&gt;</td>\n",
       "      <td>selamat malam pendusta</td>\n",
       "      <td>selamat malam pendusta</td>\n",
       "    </tr>\n",
       "  </tbody>\n",
       "</table>\n",
       "</div>"
      ],
      "text/plain": [
       "   Sentiment                                         Text Tweet  \\\n",
       "0          1  <USER_MENTION> #BOIKOT_<PROVIDER_NAME> Gunakan...   \n",
       "1          1  Saktinya balik lagi, alhamdulillah :v <PROVIDE...   \n",
       "2          0  Selamat pagi <PROVIDER_NAME>  bisa bantu kenap...   \n",
       "3          0  Dear <PROVIDER_NAME> akhir2 ini jaringan data ...   \n",
       "4          0            Selamat malam PENDUSTA <PROVIDER_NAME>    \n",
       "\n",
       "                                          text_lower  \\\n",
       "0  <user_mention> #boikot_<provider_name> gunakan...   \n",
       "1  saktinya balik lagi, alhamdulillah :v <provide...   \n",
       "2  selamat pagi <provider_name>  bisa bantu kenap...   \n",
       "3  dear <provider_name> akhir2 ini jaringan data ...   \n",
       "4            selamat malam pendusta <provider_name>    \n",
       "\n",
       "                                          text_clean  \\\n",
       "0               boikot gunakan produk bangsa sendiri   \n",
       "1                saktinya balik lagi alhamdulillah v   \n",
       "2  selamat pagi bisa bantu kenapa di dalam kamar ...   \n",
       "3  dear akhir ini jaringan data lemot banget pada...   \n",
       "4                             selamat malam pendusta   \n",
       "\n",
       "                                     text_normalized  \n",
       "0               boikot gunakan produk bangsa sendiri  \n",
       "1                saktinya balik lagi alhamdulillah v  \n",
       "2  selamat pagi bisa bantu kenapa di dalam kamar ...  \n",
       "3  dear akhir ini jaringan data lemot banget pada...  \n",
       "4                             selamat malam pendusta  "
      ]
     },
     "execution_count": 74,
     "metadata": {},
     "output_type": "execute_result"
    }
   ],
   "source": [
    "df.head()"
   ]
  },
  {
   "cell_type": "markdown",
   "metadata": {},
   "source": [
    "### Stemming"
   ]
  },
  {
   "cell_type": "markdown",
   "metadata": {},
   "source": [
    "Stemming is cutting affixed words into root words process. **Stemming is not a mandatory step in text preprocessing.** Sometimes we need to do stemming; sometimes, we don't. It all depends on the characteristics of the data.\n",
    "\n",
    "> We use Nazief-Adriani algorithm (Adriani, et al., 2007) implemented using the [Sastrawi Library](https://github.com/har07/PySastrawi)"
   ]
  },
  {
   "cell_type": "markdown",
   "metadata": {},
   "source": [
    "Stemming examples:\n",
    "\n",
    "- mencuci → cuci\n",
    "- berlari → lari\n",
    "- berlarian → lari\n",
    "- lari-larian → lari"
   ]
  },
  {
   "cell_type": "code",
   "execution_count": 75,
   "metadata": {},
   "outputs": [],
   "source": [
    "from Sastrawi.Stemmer.StemmerFactory import StemmerFactory\n",
    "\n",
    "# create stemmer\n",
    "factory = StemmerFactory()\n",
    "stemmer = factory.create_stemmer()"
   ]
  },
  {
   "cell_type": "code",
   "execution_count": 76,
   "metadata": {},
   "outputs": [
    {
     "data": {
      "text/plain": [
       "'keluhan tidak ditanggapi bikin emosi saja pulsaku dicuri terus soak deh masa setiap hari pulsa berkurang bisa hari'"
      ]
     },
     "execution_count": 76,
     "metadata": {},
     "output_type": "execute_result"
    }
   ],
   "source": [
    "# before\n",
    "sample_text_normalized"
   ]
  },
  {
   "cell_type": "code",
   "execution_count": 77,
   "metadata": {},
   "outputs": [
    {
     "data": {
      "text/plain": [
       "'keluh tidak tanggap bikin emosi saja pulsa curi terus soak deh masa tiap hari pulsa kurang bisa hari'"
      ]
     },
     "execution_count": 77,
     "metadata": {},
     "output_type": "execute_result"
    }
   ],
   "source": [
    "# after\n",
    "sample_text_stemmed = stemmer.stem(sample_text_normalized)\n",
    "sample_text_stemmed"
   ]
  },
  {
   "cell_type": "markdown",
   "metadata": {},
   "source": [
    "We can iteratively apply a function to a column by using `.apply()` method.\n",
    "\n",
    "**Disclaimer**: The stemming process will take approximately 2-3 minutes"
   ]
  },
  {
   "cell_type": "code",
   "execution_count": 78,
   "metadata": {},
   "outputs": [
    {
     "data": {
      "text/html": [
       "<div>\n",
       "<style scoped>\n",
       "    .dataframe tbody tr th:only-of-type {\n",
       "        vertical-align: middle;\n",
       "    }\n",
       "\n",
       "    .dataframe tbody tr th {\n",
       "        vertical-align: top;\n",
       "    }\n",
       "\n",
       "    .dataframe thead th {\n",
       "        text-align: right;\n",
       "    }\n",
       "</style>\n",
       "<table border=\"1\" class=\"dataframe\">\n",
       "  <thead>\n",
       "    <tr style=\"text-align: right;\">\n",
       "      <th></th>\n",
       "      <th>Sentiment</th>\n",
       "      <th>Text Tweet</th>\n",
       "      <th>text_lower</th>\n",
       "      <th>text_clean</th>\n",
       "      <th>text_normalized</th>\n",
       "      <th>text_stemmed</th>\n",
       "    </tr>\n",
       "  </thead>\n",
       "  <tbody>\n",
       "    <tr>\n",
       "      <th>0</th>\n",
       "      <td>1</td>\n",
       "      <td>&lt;USER_MENTION&gt; #BOIKOT_&lt;PROVIDER_NAME&gt; Gunakan...</td>\n",
       "      <td>&lt;user_mention&gt; #boikot_&lt;provider_name&gt; gunakan...</td>\n",
       "      <td>boikot gunakan produk bangsa sendiri</td>\n",
       "      <td>boikot gunakan produk bangsa sendiri</td>\n",
       "      <td>boikot guna produk bangsa sendiri</td>\n",
       "    </tr>\n",
       "    <tr>\n",
       "      <th>1</th>\n",
       "      <td>1</td>\n",
       "      <td>Saktinya balik lagi, alhamdulillah :v &lt;PROVIDE...</td>\n",
       "      <td>saktinya balik lagi, alhamdulillah :v &lt;provide...</td>\n",
       "      <td>saktinya balik lagi alhamdulillah v</td>\n",
       "      <td>saktinya balik lagi alhamdulillah v</td>\n",
       "      <td>sakti balik lagi alhamdulillah v</td>\n",
       "    </tr>\n",
       "    <tr>\n",
       "      <th>2</th>\n",
       "      <td>0</td>\n",
       "      <td>Selamat pagi &lt;PROVIDER_NAME&gt;  bisa bantu kenap...</td>\n",
       "      <td>selamat pagi &lt;provider_name&gt;  bisa bantu kenap...</td>\n",
       "      <td>selamat pagi bisa bantu kenapa di dalam kamar ...</td>\n",
       "      <td>selamat pagi bisa bantu kenapa di dalam kamar ...</td>\n",
       "      <td>selamat pagi bisa bantu kenapa di dalam kamar ...</td>\n",
       "    </tr>\n",
       "    <tr>\n",
       "      <th>3</th>\n",
       "      <td>0</td>\n",
       "      <td>Dear &lt;PROVIDER_NAME&gt; akhir2 ini jaringan data ...</td>\n",
       "      <td>dear &lt;provider_name&gt; akhir2 ini jaringan data ...</td>\n",
       "      <td>dear akhir ini jaringan data lemot banget pada...</td>\n",
       "      <td>dear akhir ini jaringan data lemot banget pada...</td>\n",
       "      <td>dear akhir ini jaring data lot banget padahal h</td>\n",
       "    </tr>\n",
       "    <tr>\n",
       "      <th>4</th>\n",
       "      <td>0</td>\n",
       "      <td>Selamat malam PENDUSTA &lt;PROVIDER_NAME&gt;</td>\n",
       "      <td>selamat malam pendusta &lt;provider_name&gt;</td>\n",
       "      <td>selamat malam pendusta</td>\n",
       "      <td>selamat malam pendusta</td>\n",
       "      <td>selamat malam dusta</td>\n",
       "    </tr>\n",
       "  </tbody>\n",
       "</table>\n",
       "</div>"
      ],
      "text/plain": [
       "   Sentiment                                         Text Tweet  \\\n",
       "0          1  <USER_MENTION> #BOIKOT_<PROVIDER_NAME> Gunakan...   \n",
       "1          1  Saktinya balik lagi, alhamdulillah :v <PROVIDE...   \n",
       "2          0  Selamat pagi <PROVIDER_NAME>  bisa bantu kenap...   \n",
       "3          0  Dear <PROVIDER_NAME> akhir2 ini jaringan data ...   \n",
       "4          0            Selamat malam PENDUSTA <PROVIDER_NAME>    \n",
       "\n",
       "                                          text_lower  \\\n",
       "0  <user_mention> #boikot_<provider_name> gunakan...   \n",
       "1  saktinya balik lagi, alhamdulillah :v <provide...   \n",
       "2  selamat pagi <provider_name>  bisa bantu kenap...   \n",
       "3  dear <provider_name> akhir2 ini jaringan data ...   \n",
       "4            selamat malam pendusta <provider_name>    \n",
       "\n",
       "                                          text_clean  \\\n",
       "0               boikot gunakan produk bangsa sendiri   \n",
       "1                saktinya balik lagi alhamdulillah v   \n",
       "2  selamat pagi bisa bantu kenapa di dalam kamar ...   \n",
       "3  dear akhir ini jaringan data lemot banget pada...   \n",
       "4                             selamat malam pendusta   \n",
       "\n",
       "                                     text_normalized  \\\n",
       "0               boikot gunakan produk bangsa sendiri   \n",
       "1                saktinya balik lagi alhamdulillah v   \n",
       "2  selamat pagi bisa bantu kenapa di dalam kamar ...   \n",
       "3  dear akhir ini jaringan data lemot banget pada...   \n",
       "4                             selamat malam pendusta   \n",
       "\n",
       "                                        text_stemmed  \n",
       "0                  boikot guna produk bangsa sendiri  \n",
       "1                   sakti balik lagi alhamdulillah v  \n",
       "2  selamat pagi bisa bantu kenapa di dalam kamar ...  \n",
       "3    dear akhir ini jaring data lot banget padahal h  \n",
       "4                                selamat malam dusta  "
      ]
     },
     "execution_count": 78,
     "metadata": {},
     "output_type": "execute_result"
    }
   ],
   "source": [
    "df['text_stemmed'] = df['text_normalized'].apply(lambda x: stemmer.stem(x))\n",
    "df.head()"
   ]
  },
  {
   "cell_type": "markdown",
   "metadata": {},
   "source": [
    "### Stopwords removal"
   ]
  },
  {
   "cell_type": "markdown",
   "metadata": {},
   "source": [
    "Stopwords removal is deletion of common meaningless words such as conjunctions and others.\n",
    "\n",
    "> We use [Bahasa Indonesia stopwords](https://github.com/masdevid/ID-Stopwords) list obtained from the research of [Tala (2003)](https://www.semanticscholar.org/paper/A-Study-of-Stemming-Effects-on-Information-in-Tala/8ed9c7d54fd3f0b1ce3815b2eca82147b771ca8f?p2df) because the stopwords are larger than the stopwords list in the Indonesian nltk library."
   ]
  },
  {
   "cell_type": "code",
   "execution_count": 79,
   "metadata": {},
   "outputs": [],
   "source": [
    "# uncomment & run this code ONCE only\n",
    "# import nltk\n",
    "# nltk.download('stopwords')"
   ]
  },
  {
   "cell_type": "code",
   "execution_count": 80,
   "metadata": {},
   "outputs": [
    {
     "data": {
      "text/plain": [
       "758"
      ]
     },
     "execution_count": 80,
     "metadata": {},
     "output_type": "execute_result"
    }
   ],
   "source": [
    "from nltk.tokenize import word_tokenize \n",
    "from nltk.corpus import stopwords\n",
    "\n",
    "# get stopword indonesia\n",
    "list_stopwords = stopwords.words('indonesian')\n",
    "len(list_stopwords)"
   ]
  },
  {
   "cell_type": "code",
   "execution_count": 81,
   "metadata": {},
   "outputs": [
    {
     "data": {
      "text/plain": [
       "44019"
      ]
     },
     "execution_count": 81,
     "metadata": {},
     "output_type": "execute_result"
    }
   ],
   "source": [
    "stopwords_tala = pd.read_csv('data_input/StopWords_Tala.csv')\n",
    "list_stopwords = set(stopwords_tala['LEMA'])\n",
    "len(list_stopwords)"
   ]
  },
  {
   "cell_type": "markdown",
   "metadata": {},
   "source": [
    "> 💡 Note: You can define your own stopwords list to be removed, but again, the list depends on the case."
   ]
  },
  {
   "cell_type": "code",
   "execution_count": 82,
   "metadata": {},
   "outputs": [],
   "source": [
    "def remove_stopwords(text):\n",
    "    return ' '.join([word for word in text.split() if word not in list_stopwords])"
   ]
  },
  {
   "cell_type": "markdown",
   "metadata": {},
   "source": [
    "The function above is written using [Python's list comprehension](https://docs.python.org/3/tutorial/datastructures.html#list-comprehensions). If you are not familiar with that, you can refer to the following version:\n",
    "\n",
    "```{python}\n",
    "def remove_stopwords(text):\n",
    "    # temporary list\n",
    "    result = []\n",
    "    \n",
    "    # split sentence into list of words\n",
    "    split_text = text.split()\n",
    "    \n",
    "    # loop for each word\n",
    "    for word in split_text:\n",
    "        if word not in list_stopwords:\n",
    "            result.append(word) # append word that not in stopwords list\n",
    "            \n",
    "    # combine list of words into sentence\n",
    "    combine_text = ' '.join(result)\n",
    "\n",
    "    return combine_text\n",
    "```"
   ]
  },
  {
   "cell_type": "code",
   "execution_count": 83,
   "metadata": {},
   "outputs": [
    {
     "data": {
      "text/plain": [
       "'keluh tidak tanggap bikin emosi saja pulsa curi terus soak deh masa tiap hari pulsa kurang bisa hari'"
      ]
     },
     "execution_count": 83,
     "metadata": {},
     "output_type": "execute_result"
    }
   ],
   "source": [
    "# before\n",
    "sample_text_stemmed"
   ]
  },
  {
   "cell_type": "code",
   "execution_count": 84,
   "metadata": {},
   "outputs": [
    {
     "data": {
      "text/plain": [
       "'keluh tanggap bikin emosi pulsa curi deh pulsa'"
      ]
     },
     "execution_count": 84,
     "metadata": {},
     "output_type": "execute_result"
    }
   ],
   "source": [
    "# after\n",
    "remove_stopwords(sample_text_stemmed)"
   ]
  },
  {
   "cell_type": "markdown",
   "metadata": {},
   "source": [
    "We can iteratively apply a function to a column by using `.apply()` method."
   ]
  },
  {
   "cell_type": "code",
   "execution_count": 85,
   "metadata": {},
   "outputs": [],
   "source": [
    "df['text_no_stopwords'] = df['text_stemmed'].apply(lambda x: remove_stopwords(x))"
   ]
  },
  {
   "cell_type": "markdown",
   "metadata": {},
   "source": [
    "We have finished the data preprocessing, and each processing result is split into data frame column values. Separating data processing results is a good step because we do not need to repeat the preprocessing process if we need data with different preprocessing techniques. This efficiency will be evident if the data being used is large enough."
   ]
  },
  {
   "cell_type": "code",
   "execution_count": 86,
   "metadata": {},
   "outputs": [
    {
     "data": {
      "text/html": [
       "<div>\n",
       "<style scoped>\n",
       "    .dataframe tbody tr th:only-of-type {\n",
       "        vertical-align: middle;\n",
       "    }\n",
       "\n",
       "    .dataframe tbody tr th {\n",
       "        vertical-align: top;\n",
       "    }\n",
       "\n",
       "    .dataframe thead th {\n",
       "        text-align: right;\n",
       "    }\n",
       "</style>\n",
       "<table border=\"1\" class=\"dataframe\">\n",
       "  <thead>\n",
       "    <tr style=\"text-align: right;\">\n",
       "      <th></th>\n",
       "      <th>Sentiment</th>\n",
       "      <th>Text Tweet</th>\n",
       "      <th>text_lower</th>\n",
       "      <th>text_clean</th>\n",
       "      <th>text_normalized</th>\n",
       "      <th>text_stemmed</th>\n",
       "      <th>text_no_stopwords</th>\n",
       "    </tr>\n",
       "  </thead>\n",
       "  <tbody>\n",
       "    <tr>\n",
       "      <th>0</th>\n",
       "      <td>1</td>\n",
       "      <td>&lt;USER_MENTION&gt; #BOIKOT_&lt;PROVIDER_NAME&gt; Gunakan...</td>\n",
       "      <td>&lt;user_mention&gt; #boikot_&lt;provider_name&gt; gunakan...</td>\n",
       "      <td>boikot gunakan produk bangsa sendiri</td>\n",
       "      <td>boikot gunakan produk bangsa sendiri</td>\n",
       "      <td>boikot guna produk bangsa sendiri</td>\n",
       "      <td>boikot produk bangsa</td>\n",
       "    </tr>\n",
       "    <tr>\n",
       "      <th>1</th>\n",
       "      <td>1</td>\n",
       "      <td>Saktinya balik lagi, alhamdulillah :v &lt;PROVIDE...</td>\n",
       "      <td>saktinya balik lagi, alhamdulillah :v &lt;provide...</td>\n",
       "      <td>saktinya balik lagi alhamdulillah v</td>\n",
       "      <td>saktinya balik lagi alhamdulillah v</td>\n",
       "      <td>sakti balik lagi alhamdulillah v</td>\n",
       "      <td>sakti alhamdulillah v</td>\n",
       "    </tr>\n",
       "    <tr>\n",
       "      <th>2</th>\n",
       "      <td>0</td>\n",
       "      <td>Selamat pagi &lt;PROVIDER_NAME&gt;  bisa bantu kenap...</td>\n",
       "      <td>selamat pagi &lt;provider_name&gt;  bisa bantu kenap...</td>\n",
       "      <td>selamat pagi bisa bantu kenapa di dalam kamar ...</td>\n",
       "      <td>selamat pagi bisa bantu kenapa di dalam kamar ...</td>\n",
       "      <td>selamat pagi bisa bantu kenapa di dalam kamar ...</td>\n",
       "      <td>pagi bantu kamar sinyal hilang panggil darurat</td>\n",
       "    </tr>\n",
       "    <tr>\n",
       "      <th>3</th>\n",
       "      <td>0</td>\n",
       "      <td>Dear &lt;PROVIDER_NAME&gt; akhir2 ini jaringan data ...</td>\n",
       "      <td>dear &lt;provider_name&gt; akhir2 ini jaringan data ...</td>\n",
       "      <td>dear akhir ini jaringan data lemot banget pada...</td>\n",
       "      <td>dear akhir ini jaringan data lemot banget pada...</td>\n",
       "      <td>dear akhir ini jaring data lot banget padahal h</td>\n",
       "      <td>jaring data lot h</td>\n",
       "    </tr>\n",
       "    <tr>\n",
       "      <th>4</th>\n",
       "      <td>0</td>\n",
       "      <td>Selamat malam PENDUSTA &lt;PROVIDER_NAME&gt;</td>\n",
       "      <td>selamat malam pendusta &lt;provider_name&gt;</td>\n",
       "      <td>selamat malam pendusta</td>\n",
       "      <td>selamat malam pendusta</td>\n",
       "      <td>selamat malam dusta</td>\n",
       "      <td>malam dusta</td>\n",
       "    </tr>\n",
       "  </tbody>\n",
       "</table>\n",
       "</div>"
      ],
      "text/plain": [
       "   Sentiment                                         Text Tweet  \\\n",
       "0          1  <USER_MENTION> #BOIKOT_<PROVIDER_NAME> Gunakan...   \n",
       "1          1  Saktinya balik lagi, alhamdulillah :v <PROVIDE...   \n",
       "2          0  Selamat pagi <PROVIDER_NAME>  bisa bantu kenap...   \n",
       "3          0  Dear <PROVIDER_NAME> akhir2 ini jaringan data ...   \n",
       "4          0            Selamat malam PENDUSTA <PROVIDER_NAME>    \n",
       "\n",
       "                                          text_lower  \\\n",
       "0  <user_mention> #boikot_<provider_name> gunakan...   \n",
       "1  saktinya balik lagi, alhamdulillah :v <provide...   \n",
       "2  selamat pagi <provider_name>  bisa bantu kenap...   \n",
       "3  dear <provider_name> akhir2 ini jaringan data ...   \n",
       "4            selamat malam pendusta <provider_name>    \n",
       "\n",
       "                                          text_clean  \\\n",
       "0               boikot gunakan produk bangsa sendiri   \n",
       "1                saktinya balik lagi alhamdulillah v   \n",
       "2  selamat pagi bisa bantu kenapa di dalam kamar ...   \n",
       "3  dear akhir ini jaringan data lemot banget pada...   \n",
       "4                             selamat malam pendusta   \n",
       "\n",
       "                                     text_normalized  \\\n",
       "0               boikot gunakan produk bangsa sendiri   \n",
       "1                saktinya balik lagi alhamdulillah v   \n",
       "2  selamat pagi bisa bantu kenapa di dalam kamar ...   \n",
       "3  dear akhir ini jaringan data lemot banget pada...   \n",
       "4                             selamat malam pendusta   \n",
       "\n",
       "                                        text_stemmed  \\\n",
       "0                  boikot guna produk bangsa sendiri   \n",
       "1                   sakti balik lagi alhamdulillah v   \n",
       "2  selamat pagi bisa bantu kenapa di dalam kamar ...   \n",
       "3    dear akhir ini jaring data lot banget padahal h   \n",
       "4                                selamat malam dusta   \n",
       "\n",
       "                                text_no_stopwords  \n",
       "0                            boikot produk bangsa  \n",
       "1                           sakti alhamdulillah v  \n",
       "2  pagi bantu kamar sinyal hilang panggil darurat  \n",
       "3                               jaring data lot h  \n",
       "4                                     malam dusta  "
      ]
     },
     "execution_count": 86,
     "metadata": {},
     "output_type": "execute_result"
    }
   ],
   "source": [
    "df.head()"
   ]
  },
  {
   "cell_type": "markdown",
   "metadata": {},
   "source": [
    "We've been preprocessing our dataset and saving it into pickle file to save memory. "
   ]
  },
  {
   "cell_type": "code",
   "execution_count": 87,
   "metadata": {},
   "outputs": [],
   "source": [
    "# saving dataframe into pickle\n",
    "#df.to_pickle('data_input/df_tweet_sentiment_general_and_cellular_service_provider_preprocessed.pkl')\n",
    "\n",
    "# open the pickle file\n",
    "#df = pd.read_pickle('data_input/df_tweet_sentiment_cellular_service_provider_preprocessed.pkl')"
   ]
  },
  {
   "cell_type": "markdown",
   "metadata": {},
   "source": [
    "**🔎 Knowledge Check**"
   ]
  },
  {
   "cell_type": "markdown",
   "metadata": {},
   "source": [
    "Which of these technique will not decrease the dimensionality of the data? \n",
    "\n",
    "- [ ] Removal of stopwords \n",
    "- [ ] Normalization of words \n",
    "- [X] Case folding\n",
    "- [ ] Text cleansing and normalization\n",
    "\n",
    "In NLP, The process of converting a sentence or paragraph into tokens is referred to as stemming\n",
    "- [ ] True\n",
    "- [X] False\n",
    "\n",
    "Look at the tweet below, do you think there is a step that we shouldn't take?"
   ]
  },
  {
   "cell_type": "code",
   "execution_count": 88,
   "metadata": {},
   "outputs": [
    {
     "name": "stdout",
     "output_type": "stream",
     "text": [
      "SENTIMENT: 0\n",
      "=============\n",
      "ORIGINAL TWEET:\n",
      " jaringan <PROVIDER_NAME> flash untuk daerah aceh singkil kok gak stabil <PROVIDER_NAME>\n",
      "\n",
      "AFTER CASE FOLDING:\n",
      " jaringan <provider_name> flash untuk daerah aceh singkil kok gak stabil <provider_name>\n",
      "\n",
      "AFTER CLEANSING AND NORMALIZED:\n",
      " jaringan flash untuk daerah aceh singkil kok tidak stabil\n",
      "\n",
      "AFTER STEMMING:\n",
      " jaring flash untuk daerah aceh singkil kok tidak stabil\n",
      "\n",
      "AFTER STOPWORDS REMOVAL:\n",
      " jaring daerah aceh singkil stabil\n",
      "\n"
     ]
    }
   ],
   "source": [
    "sample_idx = 272\n",
    "print(\"SENTIMENT:\", df['Sentiment'][sample_idx])\n",
    "print(\"=============\")\n",
    "print(\"ORIGINAL TWEET:\\n\", df['Text Tweet'][sample_idx])\n",
    "print()\n",
    "print(\"AFTER CASE FOLDING:\\n\", df['text_lower'][sample_idx])\n",
    "print()\n",
    "print(\"AFTER CLEANSING AND NORMALIZED:\\n\", df['text_normalized'][sample_idx])\n",
    "print()\n",
    "print(\"AFTER STEMMING:\\n\", df['text_stemmed'][sample_idx])\n",
    "print()\n",
    "print(\"AFTER STOPWORDS REMOVAL:\\n\", df['text_no_stopwords'][sample_idx])\n",
    "print()"
   ]
  },
  {
   "cell_type": "markdown",
   "metadata": {},
   "source": [
    "> Stopwords, because it will change the sentiment\n",
    "\n",
    "Alternatif action plan:\n",
    "> - Keep the stopwords removal process but remove the word 'no' from the stopwords list\n",
    "> - Skip the stopwords removal process and text preprocessing end on the stemming process."
   ]
  },
  {
   "cell_type": "markdown",
   "metadata": {},
   "source": [
    "## Exploratory Data Analysis (EDA)\n",
    "\n",
    "Before we fit the clean data to the model, let's explore insights from the data we have."
   ]
  },
  {
   "cell_type": "markdown",
   "metadata": {},
   "source": [
    "### Count Unique Words"
   ]
  },
  {
   "cell_type": "markdown",
   "metadata": {},
   "source": [
    "Most common EDA process in text is to count the occurences of each word in the dataset/corpus.\n",
    "\n",
    "The collection of unique words that are present in our data will be called **Vocabulary**"
   ]
  },
  {
   "cell_type": "code",
   "execution_count": 89,
   "metadata": {},
   "outputs": [],
   "source": [
    "from collections import Counter\n",
    "\n",
    "# function to count unique words\n",
    "def counter_word(text):\n",
    "    count = Counter()\n",
    "    for sentence in text.values:\n",
    "        for word in sentence.split():\n",
    "            count[word] += 1\n",
    "    return count"
   ]
  },
  {
   "cell_type": "code",
   "execution_count": 90,
   "metadata": {},
   "outputs": [
    {
     "data": {
      "text/plain": [
       "795"
      ]
     },
     "execution_count": 90,
     "metadata": {},
     "output_type": "execute_result"
    }
   ],
   "source": [
    "# find out how many unique words in our data\n",
    "unique_words = counter_word(df['text_stemmed'])\n",
    "len(unique_words)"
   ]
  },
  {
   "cell_type": "code",
   "execution_count": 91,
   "metadata": {},
   "outputs": [
    {
     "data": {
      "text/plain": [
       "[('tidak', 109), ('di', 62), ('pakai', 54), ('yang', 53), ('sinyal', 42)]"
      ]
     },
     "execution_count": 91,
     "metadata": {},
     "output_type": "execute_result"
    }
   ],
   "source": [
    "# take a look at the five most common words\n",
    "unique_words.most_common(5)"
   ]
  },
  {
   "cell_type": "code",
   "execution_count": 92,
   "metadata": {},
   "outputs": [
    {
     "data": {
      "text/plain": [
       "1      427\n",
       "2      118\n",
       "3       69\n",
       "4       40\n",
       "5       29\n",
       "6       20\n",
       "7       14\n",
       "8       10\n",
       "9       10\n",
       "12       6\n",
       "14       6\n",
       "21       4\n",
       "10       4\n",
       "16       4\n",
       "19       4\n",
       "18       3\n",
       "24       3\n",
       "11       3\n",
       "17       3\n",
       "30       2\n",
       "13       2\n",
       "29       1\n",
       "41       1\n",
       "20       1\n",
       "32       1\n",
       "33       1\n",
       "54       1\n",
       "31       1\n",
       "39       1\n",
       "26       1\n",
       "53       1\n",
       "109      1\n",
       "42       1\n",
       "62       1\n",
       "15       1\n",
       "dtype: int64"
      ]
     },
     "execution_count": 92,
     "metadata": {},
     "output_type": "execute_result"
    }
   ],
   "source": [
    "# create a frequency table of word frequency\n",
    "freq = [freq for word, freq in unique_words.items()]\n",
    "pd.Series(freq).value_counts()"
   ]
  },
  {
   "cell_type": "markdown",
   "metadata": {},
   "source": [
    "Interpretation of the table above:\n",
    "- there are 427 unique words that only appear once (out of our 300 tweets)\n",
    "- there are 118 unique words that only appear 2x (out of our 300 tweets)\n",
    "- etc"
   ]
  },
  {
   "cell_type": "markdown",
   "metadata": {},
   "source": [
    "> 💡 **Insights:**\n",
    "> - There are 795 unique words in our dataset\n",
    "> - Words that appear frequently are: `di`, `tidak`, `pakai`, `yang`, `sinyal` (top 5 based on frequency)\n",
    "> - There are 427 unique words that only appear 1x (out of our 300 tweets), follow up:\n",
    "    >  1. Collect more data, or\n",
    "    >  2. We don't consider a word that appears only once (because it's too specific)"
   ]
  },
  {
   "cell_type": "markdown",
   "metadata": {},
   "source": [
    "### Count Sentence Length"
   ]
  },
  {
   "cell_type": "markdown",
   "metadata": {},
   "source": [
    "Next, we check the distribution of length of each sentence. This can be beneficial for us to define the **maximum number of words in the sequence**. Depending on the text it's better to set it same as or higher than its maximum length per observation. For example, for tweets you can set it like 250 or 70 depending on the maximum length of of the tweet, but, if you have bigger text you can actually set it to 200 or even more. We can check the maximum and/or mean of our data text observation to make decision on how much number of words do we put in a sequence."
   ]
  },
  {
   "cell_type": "code",
   "execution_count": 95,
   "metadata": {},
   "outputs": [],
   "source": [
    "sentence_length = df['text_stemmed'].apply(lambda x: len(x.split()))"
   ]
  },
  {
   "cell_type": "code",
   "execution_count": 96,
   "metadata": {},
   "outputs": [
    {
     "data": {
      "text/plain": [
       "<AxesSubplot:xlabel='text_stemmed', ylabel='Count'>"
      ]
     },
     "execution_count": 96,
     "metadata": {},
     "output_type": "execute_result"
    },
    {
     "data": {
      "image/png": "[encoded data removed]",
      "text/plain": [
       "<Figure size 432x288 with 1 Axes>"
      ]
     },
     "metadata": {
      "needs_background": "light"
     },
     "output_type": "display_data"
    }
   ],
   "source": [
    "# seaborn visualization\n",
    "sns.histplot(sentence_length, binwidth=1)"
   ]
  },
  {
   "cell_type": "code",
   "execution_count": 97,
   "metadata": {},
   "outputs": [
    {
     "data": {
      "text/plain": [
       "count    300.000000\n",
       "mean       9.550000\n",
       "std        5.134398\n",
       "min        1.000000\n",
       "25%        5.000000\n",
       "50%        9.000000\n",
       "75%       13.250000\n",
       "max       21.000000\n",
       "Name: text_stemmed, dtype: float64"
      ]
     },
     "execution_count": 97,
     "metadata": {},
     "output_type": "execute_result"
    }
   ],
   "source": [
    "# five number summary\n",
    "sentence_length.describe()"
   ]
  },
  {
   "cell_type": "markdown",
   "metadata": {},
   "source": [
    "> 💡 Insights:\n",
    "> - On average, the sentence length in our data is 9-10 words\n",
    "> - The minimum is only 1 word, and **the maximum is 21 words**\n",
    "\n",
    "You can use this information futher to decide the value of `maxlength` parameter on pad sequence process."
   ]
  },
  {
   "cell_type": "markdown",
   "metadata": {},
   "source": [
    "## Cross Validation"
   ]
  },
  {
   "cell_type": "markdown",
   "metadata": {},
   "source": [
    "Cross-validation is a resampling procedure used to evaluate machine learning models on a limited data sample. We use common variation from Cross Validation: **train/test split**. The procedure involves taking a dataset and dividing it into two subsets. \n",
    "\n",
    "- Train Dataset: Used to fit the machine learning model.\n",
    "- Test Dataset: Used to evaluate the fit machine learning model.\n",
    "\n",
    "The objective is to estimate the performance of the machine learning model on new data: data not used to train the model. Let's split using 75:25 proportion"
   ]
  },
  {
   "cell_type": "code",
   "execution_count": 25,
   "metadata": {},
   "outputs": [
    {
     "name": "stdout",
     "output_type": "stream",
     "text": [
      "sentiment text:  4glte bogor area 3 tanggap\n",
      "sentiment:  0\n"
     ]
    }
   ],
   "source": [
    "X_train, X_test, y_train, y_test = train_test_split(df['text_no_stopwords'].values, df['Sentiment'].values, test_size=0.3)\n",
    "\n",
    "# checking the data split\n",
    "print('sentiment text: ', X_train[0])\n",
    "print('sentiment: ', y_train[0])"
   ]
  },
  {
   "cell_type": "code",
   "execution_count": 98,
   "metadata": {},
   "outputs": [],
   "source": [
    "from sklearn.model_selection import train_test_split"
   ]
  },
  {
   "cell_type": "markdown",
   "metadata": {},
   "source": [
    "- Feature: text_stemmed\n",
    "- Target: Sentiment"
   ]
  },
  {
   "cell_type": "code",
   "execution_count": 100,
   "metadata": {},
   "outputs": [
    {
     "name": "stdout",
     "output_type": "stream",
     "text": [
      "TRAIN: (225,)\n",
      "TEST: (75,)\n"
     ]
    }
   ],
   "source": [
    "X_train, X_test, y_train, y_test = train_test_split(df['text_stemmed'],\n",
    "                                                    df['Sentiment'],\n",
    "                                                    test_size=0.25,\n",
    "                                                    random_state=123)\n",
    "\n",
    "print(\"TRAIN:\", X_train.shape)\n",
    "print(\"TEST:\", X_test.shape)"
   ]
  },
  {
   "cell_type": "code",
   "execution_count": 101,
   "metadata": {},
   "outputs": [
    {
     "name": "stdout",
     "output_type": "stream",
     "text": [
      "CLEANED TEXT (feature): glte bogor area sudah bulan tidak ada tanggap yang jelas\n",
      "SENTIMENT (target): 0\n"
     ]
    }
   ],
   "source": [
    "# checking the data split\n",
    "print(\"CLEANED TEXT (feature):\", X_train.iloc[0])\n",
    "print(\"SENTIMENT (target):\", y_train.iloc[0])"
   ]
  },
  {
   "cell_type": "markdown",
   "metadata": {},
   "source": [
    "## Tokenization"
   ]
  },
  {
   "cell_type": "markdown",
   "metadata": {},
   "source": [
    "Tokenization is a way of separating a piece of text into smaller units called tokens. We are using the TensorFlow (Keras) [Tokenizer](https://www.tensorflow.org/api_docs/python/tf/keras/preprocessing/text/Tokenizer) class to automate the tokenization of our training data. First, we create the Tokenizer object, providing the maximum number of words to keep in our vocabulary after tokenization, as well as an out of vocabulary token to use for encoding test data words we have not come across in our training, without which these previously-unseen words would simply be dropped from our vocabulary and mysteriously unaccounted for. After the Tokenizer has been created, we then fit it on the training data. Remember that testing data do not need to be fit with tokenizer due to data leakage.\n",
    "\n",
    "Parameter:\n",
    "\n",
    "- `num_words`: the maximum number of words to keep, based on word frequency. Only the most common `num_words-1` words will be kept.\n",
    "- `oov_token`: we use $<$OOV$>$ to handle out-of-vocabulary words. $<$OOV$>$ token will be added to word_index and used to replace out-of-vocabulary words during text_to_sequence calls.\n",
    "\n",
    "Note: In NLP, the term `token` can be either word, character, or subword. In this particular case, tokens means `words`"
   ]
  },
  {
   "cell_type": "code",
   "execution_count": 102,
   "metadata": {},
   "outputs": [],
   "source": [
    "from keras.preprocessing.text import Tokenizer"
   ]
  },
  {
   "cell_type": "code",
   "execution_count": 103,
   "metadata": {},
   "outputs": [
    {
     "data": {
      "text/plain": [
       "368"
      ]
     },
     "execution_count": 103,
     "metadata": {},
     "output_type": "execute_result"
    }
   ],
   "source": [
    "# define number of words to keep during conversion (can be tuned)\n",
    "num_words = len(unique_words)-427\n",
    "num_words # only consider unique words, only 368 words (based on the highest word frequency)"
   ]
  },
  {
   "cell_type": "code",
   "execution_count": 104,
   "metadata": {},
   "outputs": [],
   "source": [
    "# converting the strings into integers using Tokenizer \n",
    "# instantiating the tokenizer\n",
    "tokenizer = Tokenizer(num_words=num_words, oov_token='<OOV>')\n",
    "\n",
    "# only fit on data train\n",
    "tokenizer.fit_on_texts(X_train)"
   ]
  },
  {
   "cell_type": "markdown",
   "metadata": {},
   "source": [
    "`num_words`: can be tuned\n",
    "- The bigger it is, the more we allow the model to be more specific\n",
    "- The smaller it is, then, we only involve words that often appear"
   ]
  },
  {
   "cell_type": "markdown",
   "metadata": {},
   "source": [
    "A byproduct of the tokenization process is the creation of a word index, which maps words in our vocabulary to their numeric representation, a mapping which will be essential for encoding our sequences. Since we will reference this later to print out, we assign it a variable here to simplify a bit."
   ]
  },
  {
   "cell_type": "code",
   "execution_count": 105,
   "metadata": {},
   "outputs": [
    {
     "name": "stdout",
     "output_type": "stream",
     "text": [
      "The size of dataset vocab is:  672\n"
     ]
    }
   ],
   "source": [
    "# checking the word index and find out the size vocabulary of the dataset\n",
    "# size of vocabulary are not affected by defined num_words\n",
    "word_index = tokenizer.word_index\n",
    "print('The size of dataset vocab is: ', len(word_index))"
   ]
  },
  {
   "cell_type": "markdown",
   "metadata": {},
   "source": [
    "Since neural networks work by performing computation on numbers, passing in a bunch of words won't work. Now that we have a word to numeric representation mapping of our vocabulary, let's use it to encode our sequences. Here, we are converting **from words sequence to numbers sequence**, where each of those numbers match up in the index to the corresponding words."
   ]
  },
  {
   "cell_type": "code",
   "execution_count": 106,
   "metadata": {},
   "outputs": [
    {
     "data": {
      "text/plain": [
       "'keluh tidak tanggap bikin emosi saja pulsa curi terus soak deh masa tiap hari pulsa kurang bisa hari'"
      ]
     },
     "execution_count": 106,
     "metadata": {},
     "output_type": "execute_result"
    }
   ],
   "source": [
    "# before mapping\n",
    "sample_text_stemmed"
   ]
  },
  {
   "cell_type": "code",
   "execution_count": 107,
   "metadata": {},
   "outputs": [
    {
     "data": {
      "text/plain": [
       "[[189, 2, 201, 65, 1, 15, 28, 1, 97, 1, 190, 121, 162, 19, 28, 132, 17, 19]]"
      ]
     },
     "execution_count": 107,
     "metadata": {},
     "output_type": "execute_result"
    }
   ],
   "source": [
    "# after mapping\n",
    "tokenizer.texts_to_sequences([sample_text_stemmed])"
   ]
  },
  {
   "cell_type": "markdown",
   "metadata": {},
   "source": [
    "> 💡 Note: The tokenizer will only convert to sequences as many as `num_words` stated inside `Tokenizer()`"
   ]
  },
  {
   "cell_type": "code",
   "execution_count": 109,
   "metadata": {},
   "outputs": [
    {
     "name": "stdout",
     "output_type": "stream",
     "text": [
      "Training sequence:  [142, 300, 89, 11, 90, 2, 13, 201, 3, 143]\n",
      "Testing sequence:  [43, 295, 137, 2, 1, 134, 1, 108, 101, 255, 82]\n"
     ]
    }
   ],
   "source": [
    "# converting train and test sentences into sequences\n",
    "train_sequences = tokenizer.texts_to_sequences(X_train)\n",
    "test_sequences = tokenizer.texts_to_sequences(X_test)\n",
    "\n",
    "#sample after mapping\n",
    "print('Training sequence: ', train_sequences[0])\n",
    "print('Testing sequence: ', test_sequences[0])"
   ]
  },
  {
   "cell_type": "markdown",
   "metadata": {},
   "source": [
    "## Pad Sequence"
   ]
  },
  {
   "cell_type": "markdown",
   "metadata": {},
   "source": [
    "We need our encoded sequences to be of **the same length**. We just found out the length of the longest sequence (on EDA), and will use that to pad all other sequences with extra '0's at the beginning ('pre') and will also truncate any sequences longer than maximum length from the beginning ('pre') as well. Here we use the TensorFlow (Keras) [pad_sequences](https://www.tensorflow.org/api_docs/python/tf/keras/preprocessing/sequence/pad_sequences) module to accomplish this. You can look at the documentation for additional padding options."
   ]
  },
  {
   "cell_type": "code",
   "execution_count": 110,
   "metadata": {},
   "outputs": [],
   "source": [
    "from keras.preprocessing.sequence import pad_sequences"
   ]
  },
  {
   "cell_type": "code",
   "execution_count": 111,
   "metadata": {},
   "outputs": [
    {
     "data": {
      "text/plain": [
       "array([[0, 0, 1, 2, 3],\n",
       "       [1, 2, 3, 4, 5]])"
      ]
     },
     "execution_count": 111,
     "metadata": {},
     "output_type": "execute_result"
    }
   ],
   "source": [
    "# for illustration only\n",
    "pad_sequences([[1, 2, 3],\n",
    "               [1, 2, 3, 4, 5, 6]], maxlen=5, padding='pre', truncating='post')"
   ]
  },
  {
   "cell_type": "markdown",
   "metadata": {},
   "source": [
    "- `maxlen`: maximum length of text data\n",
    "- `padding`: if the sequence is too short, how do you want it to be padded? is it `pre`/`post`?\n",
    "- `truncating`: if the sequence is too long, which way do you want to cut it? is it `pre`/`post`?"
   ]
  },
  {
   "cell_type": "code",
   "execution_count": 112,
   "metadata": {},
   "outputs": [
    {
     "name": "stdout",
     "output_type": "stream",
     "text": [
      "Shape of train sequences: (225, 20)\n",
      "Shape of test sequences: (75, 20)\n"
     ]
    }
   ],
   "source": [
    "# padding the train and test sequences\n",
    "max_length = 20 # around the maximum sentence length of the data (may be changed but not too extreme)\n",
    "train_padded = pad_sequences(train_sequences, maxlen=max_length)\n",
    "test_padded = pad_sequences(test_sequences, maxlen=max_length)\n",
    "\n",
    "print(\"Shape of train sequences:\", train_padded.shape)\n",
    "print(\"Shape of test sequences:\", test_padded.shape)"
   ]
  },
  {
   "cell_type": "code",
   "execution_count": 113,
   "metadata": {},
   "outputs": [
    {
     "name": "stdout",
     "output_type": "stream",
     "text": [
      "boikot guna produk bangsa sendiri\n",
      "[142, 300, 89, 11, 90, 2, 13, 201, 3, 143]\n",
      "[  0   0   0   0   0   0   0   0   0   0 142 300  89  11  90   2  13 201\n",
      "   3 143]\n"
     ]
    }
   ],
   "source": [
    "# sample after padding\n",
    "print(X_train[0])\n",
    "print(train_sequences[0])\n",
    "print(train_padded[0])"
   ]
  },
  {
   "cell_type": "markdown",
   "metadata": {},
   "source": [
    "## Quick Recap"
   ]
  },
  {
   "cell_type": "markdown",
   "metadata": {},
   "source": [
    "Here is the workflow we have done so far:\n",
    "\n",
    "1. Load Dataset\n",
    "2. Target Preprocessing\n",
    "3. Text (Feature) Preprocessing: case folding, text cleansing, text normalization, stemming, stopwords removal\n",
    "4. EDA: count unique words, count sentence length\n",
    "5. Cross Validation\n",
    "6. Tokenization\n",
    "7. Pad Sequence"
   ]
  },
  {
   "cell_type": "code",
   "execution_count": 115,
   "metadata": {},
   "outputs": [
    {
     "name": "stdout",
     "output_type": "stream",
     "text": [
      "CLEANED TEXT: untuk tembak paket dari masih ganggu ya\n",
      "AFTER TOKENIZE: [59, 301, 22, 14, 26, 108, 21]\n",
      "AFTER PADDING (FEATURE):\n",
      " [  0   0   0   0   0   0   0   0   0   0   0   0   0  59 301  22  14  26\n",
      " 108  21]\n",
      "SENTIMENT (TARGET): 0\n"
     ]
    }
   ],
   "source": [
    "sample_idx = 1\n",
    "\n",
    "print(\"CLEANED TEXT:\", X_train.iloc[sample_idx])\n",
    "print(\"AFTER TOKENIZE:\", train_sequences[sample_idx])\n",
    "print(\"AFTER PADDING (FEATURE):\\n\", train_padded[sample_idx])\n",
    "print(\"SENTIMENT (TARGET):\", y_train.iloc[sample_idx])"
   ]
  },
  {
   "cell_type": "markdown",
   "metadata": {},
   "source": [
    "🔎 **Discussion**: \n",
    "\n",
    "We have successfully encode words to integers using `Tokenizer` and we can observe from the `word_index` that:\n",
    "\n",
    "- `'jaring'` is encoded as 6\n",
    "- `'saya'` is encoded as 7\n",
    "- `'sinyal'` is encoded as 8\n",
    "- `'aku'` is encoded as 229\n",
    "\n",
    "Suppose this number will represent the word similarity, where the closer the distance means the two words are similar. Since `distance('saya', 'jaring') = 1` and `distance('saya', 'aku') = 222`, can we say that `'saya'` is more similar to `'jaring'` than to `'aku'`? Explain why?\n",
    "\n",
    "> Cannot, because `'saya'` is semantically more similar to `'aku'` than to `'jaring'`"
   ]
  },
  {
   "cell_type": "markdown",
   "metadata": {},
   "source": [
    "## Building the model: Text Classification Model\n",
    "\n",
    "Before we fit the `train_padded` into our model, let's us understand about embedding layer."
   ]
  },
  {
   "cell_type": "markdown",
   "metadata": {},
   "source": [
    "### Embedding Layer\n",
    "\n",
    "Embedding layer captures the **semantic meaning** of the input by placing semantically similar inputs close together. It map **high-dimensional input into a lower-dimensional** space such that similar inputs are nearby.\n",
    "\n",
    "- The following illustration shows an Embedding layer that maps 6 dimension input (6 unique words) into 4-dimensional word embedding vector.\n",
    "![](assets/embedding_layer.png)\n",
    "\n",
    "- Word embedding can capture semantic meaning, vectors that placed near to each other are considered have the same meaning.\n",
    "![](assets/word_embedding.png)\n",
    "\n",
    "\n",
    "> 💡 Additional reference for more detailed information how Embedding Layer works: [Understanding Word2Vec with Gensim and Elang](https://tomytjandra.github.io/blogs/python/natural-language-processing/gensim/2020/04/24/understanding-word2vec-with-gensim-and-elang.html)"
   ]
  },
  {
   "cell_type": "markdown",
   "metadata": {},
   "source": [
    "Keras offers an [Embedding layer](https://keras.io/api/layers/core_layers/embedding/) that can be used for neural networks on text data. It requires that the input data be integer encoded, so that each word is represented by a unique integer.\n",
    "\n",
    "Parameters:\n",
    "- `input_dim`: This is the size of the vocabulary in the text data. For example, if your data is integer encoded to values between 0-10, then the size of the vocabulary would be 11 words.\n",
    "- `output_dim`: This is the size of the vector space in which words will be embedded. It defines the size of the output vectors from this layer for each word. For example, it could be 32 or 100 or even larger. `output_dim` size is $2^n$ no more larger than `input_dim`'s size. \n",
    "- `input_length`: This is the length of input sequences, as you would define for any input layer of a Keras model. For example, if all of your input documents are comprised of 1000 words, this would be 1000.\n",
    "\n",
    "The Embedding layer takes the integer-encoded vocabulary. These vectors are learned as the model trains. The output are in 3 dimensions: `(batch_size, input_length, output_dim)`."
   ]
  },
  {
   "cell_type": "code",
   "execution_count": 117,
   "metadata": {},
   "outputs": [
    {
     "data": {
      "text/plain": [
       "array([[66, 92, 98, 17, 83, 57, 86, 97, 96, 47],\n",
       "       [73, 32, 46, 96, 25, 83, 78, 36, 96, 80],\n",
       "       [68, 49, 55, 67,  2, 84, 39, 66, 84, 47],\n",
       "       [61, 48,  7, 99, 92, 52, 97, 85, 94, 27],\n",
       "       [34, 97, 76, 40,  3, 69, 64, 75, 34, 58],\n",
       "       [10, 22, 77, 18, 15, 27, 30, 52, 70, 26],\n",
       "       [80,  6, 14, 75, 54, 71,  1, 43, 58, 55],\n",
       "       [25, 50, 84, 56, 49, 12, 18, 81,  1, 51],\n",
       "       [44, 48, 56, 91, 49, 86,  3, 67, 11, 21],\n",
       "       [89, 98,  3, 11,  3, 94,  6,  9, 87, 14],\n",
       "       [83, 70, 12, 54, 27, 38, 17, 61, 74, 99],\n",
       "       [99, 65, 47, 16,  5, 86, 46, 15, 59, 40],\n",
       "       [25, 45, 49,  0, 35, 29,  1, 83, 68, 30],\n",
       "       [ 7, 93, 60, 65, 76, 67, 44, 51,  7, 88],\n",
       "       [70, 13, 28, 63, 84, 36, 96, 40, 88, 63],\n",
       "       [58, 77,  8, 78,  6, 65, 94, 70, 40, 74],\n",
       "       [76, 76, 25,  7, 13, 44,  1, 41, 78, 56],\n",
       "       [87, 63, 97,  3, 17, 88, 87, 69, 97, 50],\n",
       "       [ 2, 18, 46, 45, 57, 35, 18, 91, 46, 54],\n",
       "       [73, 81, 62, 67, 11, 26, 92, 75, 10,  3]])"
      ]
     },
     "execution_count": 117,
     "metadata": {},
     "output_type": "execute_result"
    }
   ],
   "source": [
    "# for illustration purpose only\n",
    "# imagine this is the encoded text with:\n",
    "# vocabulary size = 100\n",
    "# sentences = 20\n",
    "# length of each sentence = 10\n",
    "\n",
    "np.random.seed(123)\n",
    "input_array = np.random.randint(100, size=(20, 10))\n",
    "input_array"
   ]
  },
  {
   "cell_type": "code",
   "execution_count": 118,
   "metadata": {},
   "outputs": [
    {
     "name": "stdout",
     "output_type": "stream",
     "text": [
      "Model: \"sequential\"\n",
      "_________________________________________________________________\n",
      " Layer (type)                Output Shape              Param #   \n",
      "=================================================================\n",
      " embedding (Embedding)       (None, 10, 32)            3200      \n",
      "                                                                 \n",
      "=================================================================\n",
      "Total params: 3,200\n",
      "Trainable params: 3,200\n",
      "Non-trainable params: 0\n",
      "_________________________________________________________________\n"
     ]
    }
   ],
   "source": [
    "model_embedding = tf.keras.Sequential(keras.layers.Embedding(input_dim=100, \n",
    "                                                             output_dim=32, \n",
    "                                                             input_length=10)\n",
    ")\n",
    "model_embedding.compile(optimizer='adam', loss='mse')\n",
    "model_embedding.summary()"
   ]
  },
  {
   "cell_type": "code",
   "execution_count": 119,
   "metadata": {},
   "outputs": [
    {
     "data": {
      "text/plain": [
       "(20, 10, 32)"
      ]
     },
     "execution_count": 119,
     "metadata": {},
     "output_type": "execute_result"
    }
   ],
   "source": [
    "# check the output dimension\n",
    "output_array = model_embedding.predict(input_array)\n",
    "output_array.shape"
   ]
  },
  {
   "cell_type": "markdown",
   "metadata": {},
   "source": [
    "### Building the Sequential Model\n",
    "\n",
    "Now, you have understand how embedding layers work. Let's build the sequential model using stacked LSTM."
   ]
  },
  {
   "cell_type": "markdown",
   "metadata": {},
   "source": [
    "**🔎 Knowledge Check**\n",
    "\n",
    "- In the output layer:\n",
    "    - How many units should we use: `1`\n",
    "    - Activation function: `sigmoid`\n",
    "- During model compilation:\n",
    "    - Loss function: `binary cross entropy`\n",
    "    - Metrics: `accuracy`\n",
    "- What type of RNN architecture is it? `many-to-one`"
   ]
  },
  {
   "cell_type": "code",
   "execution_count": 121,
   "metadata": {},
   "outputs": [
    {
     "name": "stdout",
     "output_type": "stream",
     "text": [
      "Model: \"sequential_1\"\n",
      "_________________________________________________________________\n",
      " Layer (type)                Output Shape              Param #   \n",
      "=================================================================\n",
      " embedding_1 (Embedding)     (None, 20, 128)           47104     \n",
      "                                                                 \n",
      " lstm (LSTM)                 (None, 20, 64)            49408     \n",
      "                                                                 \n",
      " lstm_1 (LSTM)               (None, 64)                33024     \n",
      "                                                                 \n",
      " dropout (Dropout)           (None, 64)                0         \n",
      "                                                                 \n",
      " dense (Dense)               (None, 1)                 65        \n",
      "                                                                 \n",
      "=================================================================\n",
      "Total params: 129,601\n",
      "Trainable params: 129,601\n",
      "Non-trainable params: 0\n",
      "_________________________________________________________________\n",
      "None\n"
     ]
    }
   ],
   "source": [
    "tf.random.set_seed(123)\n",
    "\n",
    "embedding_size = 128\n",
    "\n",
    "model_lstm = keras.models.Sequential([\n",
    "    keras.layers.Embedding(input_dim=num_words, \n",
    "                           output_dim=embedding_size, \n",
    "                           input_length=max_length),\n",
    "    keras.layers.LSTM(units=64, return_sequences=True),\n",
    "    keras.layers.LSTM(units=64, return_sequences=False),\n",
    "    keras.layers.Dropout(rate=0.2),\n",
    "    keras.layers.Dense(units=1, activation='sigmoid')\n",
    "])\n",
    "model_lstm.compile(optimizer='adam', loss='bce', metrics=['accuracy'])\n",
    "print(model_lstm.summary())"
   ]
  },
  {
   "cell_type": "markdown",
   "metadata": {},
   "source": [
    "Let's fit the training data and use the test data as validation.\n",
    "\n",
    "> 💡 Note: Using test data as validation is not a best practice. In this case, we only have 300 tweets. If we have enough data, we can perform test-validation-test split instead of just a train-test split."
   ]
  },
  {
   "cell_type": "code",
   "execution_count": 122,
   "metadata": {},
   "outputs": [
    {
     "name": "stdout",
     "output_type": "stream",
     "text": [
      "Epoch 1/10\n",
      "8/8 [==============================] - 5s 152ms/step - loss: 0.6937 - accuracy: 0.5067 - val_loss: 0.6852 - val_accuracy: 0.5867\n",
      "Epoch 2/10\n",
      "8/8 [==============================] - 0s 26ms/step - loss: 0.6843 - accuracy: 0.5200 - val_loss: 0.6699 - val_accuracy: 0.5867\n",
      "Epoch 3/10\n",
      "8/8 [==============================] - 0s 30ms/step - loss: 0.6741 - accuracy: 0.5200 - val_loss: 0.6486 - val_accuracy: 0.5867\n",
      "Epoch 4/10\n",
      "8/8 [==============================] - 0s 27ms/step - loss: 0.6349 - accuracy: 0.5511 - val_loss: 0.6297 - val_accuracy: 0.6800\n",
      "Epoch 5/10\n",
      "8/8 [==============================] - 0s 28ms/step - loss: 0.5544 - accuracy: 0.8044 - val_loss: 0.7177 - val_accuracy: 0.5067\n",
      "Epoch 6/10\n",
      "8/8 [==============================] - 0s 30ms/step - loss: 0.4710 - accuracy: 0.7867 - val_loss: 0.6702 - val_accuracy: 0.5733\n",
      "Epoch 7/10\n",
      "8/8 [==============================] - 0s 27ms/step - loss: 0.3161 - accuracy: 0.9022 - val_loss: 0.6305 - val_accuracy: 0.7067\n",
      "Epoch 8/10\n",
      "8/8 [==============================] - 0s 26ms/step - loss: 0.2303 - accuracy: 0.8844 - val_loss: 0.6899 - val_accuracy: 0.6667\n",
      "Epoch 9/10\n",
      "8/8 [==============================] - 0s 26ms/step - loss: 0.1574 - accuracy: 0.9378 - val_loss: 0.7547 - val_accuracy: 0.6667\n",
      "Epoch 10/10\n",
      "8/8 [==============================] - 0s 26ms/step - loss: 0.1156 - accuracy: 0.9467 - val_loss: 0.8452 - val_accuracy: 0.6400\n"
     ]
    },
    {
     "data": {
      "text/plain": [
       "<keras.callbacks.History at 0x2a663dea190>"
      ]
     },
     "execution_count": 122,
     "metadata": {},
     "output_type": "execute_result"
    }
   ],
   "source": [
    "model_lstm.fit(\n",
    "    x=train_padded, y=y_train,\n",
    "    validation_data=(test_padded, y_test),\n",
    "    epochs=10)"
   ]
  },
  {
   "cell_type": "code",
   "execution_count": 123,
   "metadata": {},
   "outputs": [
    {
     "data": {
      "text/plain": [
       "<matplotlib.legend.Legend at 0x2a6649105e0>"
      ]
     },
     "execution_count": 123,
     "metadata": {},
     "output_type": "execute_result"
    },
    {
     "data": {
      "image/png": "[encoded data removed]",
      "text/plain": [
       "<Figure size 432x288 with 1 Axes>"
      ]
     },
     "metadata": {
      "needs_background": "light"
     },
     "output_type": "display_data"
    }
   ],
   "source": [
    "# plotting the loss and validation loss of the model\n",
    "plt.plot(model_lstm.history.history['loss'], label='loss')\n",
    "plt.plot(model_lstm.history.history['val_loss'], label='val_loss')\n",
    "plt.legend()"
   ]
  },
  {
   "cell_type": "code",
   "execution_count": 124,
   "metadata": {},
   "outputs": [
    {
     "data": {
      "text/plain": [
       "<matplotlib.legend.Legend at 0x2a66f5f0400>"
      ]
     },
     "execution_count": 124,
     "metadata": {},
     "output_type": "execute_result"
    },
    {
     "data": {
      "image/png": "[encoded data removed]",
      "text/plain": [
       "<Figure size 432x288 with 1 Axes>"
      ]
     },
     "metadata": {
      "needs_background": "light"
     },
     "output_type": "display_data"
    }
   ],
   "source": [
    "# plotting the accuracy and validation accuracy of the model\n",
    "plt.plot(model_lstm.history.history['accuracy'], label='accuracy')\n",
    "plt.plot(model_lstm.history.history['val_accuracy'], label='val_accuracy')\n",
    "plt.legend()"
   ]
  },
  {
   "cell_type": "markdown",
   "metadata": {},
   "source": [
    "**💬 Discussion**\n",
    "\n",
    "How is the performance of `model_lstm`? What should we improve further?\n",
    "\n",
    "> ..."
   ]
  },
  {
   "cell_type": "markdown",
   "metadata": {},
   "source": [
    "**Additional Material: ModelCheckpoint**"
   ]
  },
  {
   "cell_type": "markdown",
   "metadata": {},
   "source": [
    "Below, we use ModelCheckpoint to save the best model by its validation accuracy. [ModelCheckpoint](https://keras.io/api/callbacks/model_checkpoint/) is a Keras callback to save model weights or entire model at a specific frequency or whenever a quantity (for example, training loss) is optimum when compared to last epoch/batch. ModelCheckpoint callback provides:\n",
    "- ModelCheckpoint captures the weights of the model or entire model during training\n",
    "- It allows us to specify a quantity to monitor, such as loss or accuracy on training or validation dataset.\n",
    "- Automatically it can save model weights or entire model whenever monitored quantity is optimum when compared to last epoch/batch\n",
    "- saves model weights or entire model in two formats (“tf” and “h5”)\n",
    "\n",
    "*Reminder that ModelCheckpoint is not the main material so take it as additional information.*"
   ]
  },
  {
   "cell_type": "code",
   "execution_count": 127,
   "metadata": {},
   "outputs": [
    {
     "name": "stdout",
     "output_type": "stream",
     "text": [
      "Epoch 1/30\n",
      "7/8 [=========================>....] - ETA: 0s - loss: 0.1292 - accuracy: 0.9509\n",
      "Epoch 00001: val_accuracy improved from -inf to 0.69333, saving model to best_model_lstm.hdf5\n",
      "8/8 [==============================] - 0s 53ms/step - loss: 0.1287 - accuracy: 0.9511 - val_loss: 0.6919 - val_accuracy: 0.6933\n",
      "Epoch 2/30\n",
      "7/8 [=========================>....] - ETA: 0s - loss: 0.0882 - accuracy: 0.9777\n",
      "Epoch 00002: val_accuracy did not improve from 0.69333\n",
      "8/8 [==============================] - 0s 25ms/step - loss: 0.0897 - accuracy: 0.9778 - val_loss: 0.7158 - val_accuracy: 0.6533\n",
      "Epoch 3/30\n",
      "7/8 [=========================>....] - ETA: 0s - loss: 0.0592 - accuracy: 0.9911\n",
      "Epoch 00003: val_accuracy improved from 0.69333 to 0.70667, saving model to best_model_lstm.hdf5\n",
      "8/8 [==============================] - 1s 84ms/step - loss: 0.0590 - accuracy: 0.9911 - val_loss: 0.8264 - val_accuracy: 0.7067\n",
      "Epoch 4/30\n",
      "7/8 [=========================>....] - ETA: 0s - loss: 0.0411 - accuracy: 0.9866\n",
      "Epoch 00004: val_accuracy did not improve from 0.70667\n",
      "8/8 [==============================] - 0s 28ms/step - loss: 0.0476 - accuracy: 0.9822 - val_loss: 0.9733 - val_accuracy: 0.6933\n",
      "Epoch 5/30\n",
      "7/8 [=========================>....] - ETA: 0s - loss: 0.0655 - accuracy: 0.9732\n",
      "Epoch 00005: val_accuracy did not improve from 0.70667\n",
      "8/8 [==============================] - 0s 27ms/step - loss: 0.0652 - accuracy: 0.9733 - val_loss: 0.9121 - val_accuracy: 0.6533\n",
      "Epoch 6/30\n",
      "7/8 [=========================>....] - ETA: 0s - loss: 0.0702 - accuracy: 0.9777\n",
      "Epoch 00006: val_accuracy did not improve from 0.70667\n",
      "8/8 [==============================] - 0s 27ms/step - loss: 0.0699 - accuracy: 0.9778 - val_loss: 0.8831 - val_accuracy: 0.6400\n",
      "Epoch 7/30\n",
      "7/8 [=========================>....] - ETA: 0s - loss: 0.0380 - accuracy: 0.9911\n",
      "Epoch 00007: val_accuracy did not improve from 0.70667\n",
      "8/8 [==============================] - 0s 26ms/step - loss: 0.0378 - accuracy: 0.9911 - val_loss: 1.0733 - val_accuracy: 0.6267\n",
      "Epoch 8/30\n",
      "7/8 [=========================>....] - ETA: 0s - loss: 0.0285 - accuracy: 0.9911\n",
      "Epoch 00008: val_accuracy did not improve from 0.70667\n",
      "8/8 [==============================] - 0s 26ms/step - loss: 0.0284 - accuracy: 0.9911 - val_loss: 1.1239 - val_accuracy: 0.6533\n",
      "Epoch 9/30\n",
      "7/8 [=========================>....] - ETA: 0s - loss: 0.0231 - accuracy: 0.9911\n",
      "Epoch 00009: val_accuracy did not improve from 0.70667\n",
      "8/8 [==============================] - 0s 26ms/step - loss: 0.0230 - accuracy: 0.9911 - val_loss: 1.1736 - val_accuracy: 0.6533\n",
      "Epoch 10/30\n",
      "7/8 [=========================>....] - ETA: 0s - loss: 0.0197 - accuracy: 0.9955\n",
      "Epoch 00010: val_accuracy improved from 0.70667 to 0.72000, saving model to best_model_lstm.hdf5\n",
      "8/8 [==============================] - 0s 68ms/step - loss: 0.0198 - accuracy: 0.9956 - val_loss: 1.1610 - val_accuracy: 0.7200\n",
      "Epoch 11/30\n",
      "7/8 [=========================>....] - ETA: 0s - loss: 0.0142 - accuracy: 0.9955\n",
      "Epoch 00011: val_accuracy did not improve from 0.72000\n",
      "8/8 [==============================] - 0s 28ms/step - loss: 0.0142 - accuracy: 0.9956 - val_loss: 1.1811 - val_accuracy: 0.6933\n",
      "Epoch 12/30\n",
      "7/8 [=========================>....] - ETA: 0s - loss: 0.0129 - accuracy: 0.9911\n",
      "Epoch 00012: val_accuracy did not improve from 0.72000\n",
      "8/8 [==============================] - 0s 28ms/step - loss: 0.0129 - accuracy: 0.9911 - val_loss: 1.2056 - val_accuracy: 0.6933\n",
      "Epoch 13/30\n",
      "7/8 [=========================>....] - ETA: 0s - loss: 0.0128 - accuracy: 0.9955\n",
      "Epoch 00013: val_accuracy improved from 0.72000 to 0.74667, saving model to best_model_lstm.hdf5\n",
      "8/8 [==============================] - 0s 32ms/step - loss: 0.0128 - accuracy: 0.9956 - val_loss: 1.1782 - val_accuracy: 0.7467\n",
      "Epoch 14/30\n",
      "6/8 [=====================>........] - ETA: 0s - loss: 0.0128 - accuracy: 0.9948\n",
      "Epoch 00014: val_accuracy did not improve from 0.74667\n",
      "8/8 [==============================] - 0s 31ms/step - loss: 0.0141 - accuracy: 0.9956 - val_loss: 1.1875 - val_accuracy: 0.7467\n",
      "Epoch 15/30\n",
      "6/8 [=====================>........] - ETA: 0s - loss: 0.0098 - accuracy: 1.0000\n",
      "Epoch 00015: val_accuracy did not improve from 0.74667\n",
      "8/8 [==============================] - 0s 28ms/step - loss: 0.0089 - accuracy: 1.0000 - val_loss: 1.2052 - val_accuracy: 0.6933\n",
      "Epoch 16/30\n",
      "7/8 [=========================>....] - ETA: 0s - loss: 0.0090 - accuracy: 1.0000\n",
      "Epoch 00016: val_accuracy did not improve from 0.74667\n",
      "8/8 [==============================] - 0s 29ms/step - loss: 0.0090 - accuracy: 1.0000 - val_loss: 1.2261 - val_accuracy: 0.6933\n",
      "Epoch 17/30\n",
      "6/8 [=====================>........] - ETA: 0s - loss: 0.0110 - accuracy: 0.9948\n",
      "Epoch 00017: val_accuracy did not improve from 0.74667\n",
      "8/8 [==============================] - 0s 27ms/step - loss: 0.0100 - accuracy: 0.9956 - val_loss: 1.2699 - val_accuracy: 0.7067\n",
      "Epoch 18/30\n",
      "7/8 [=========================>....] - ETA: 0s - loss: 0.0127 - accuracy: 0.9955  \n",
      "Epoch 00018: val_accuracy did not improve from 0.74667\n",
      "8/8 [==============================] - 0s 30ms/step - loss: 0.0127 - accuracy: 0.9956 - val_loss: 1.3349 - val_accuracy: 0.7067\n",
      "Epoch 19/30\n",
      "7/8 [=========================>....] - ETA: 0s - loss: 0.0145 - accuracy: 0.9911\n",
      "Epoch 00019: val_accuracy did not improve from 0.74667\n",
      "8/8 [==============================] - 0s 32ms/step - loss: 0.0144 - accuracy: 0.9911 - val_loss: 1.3126 - val_accuracy: 0.6533\n",
      "Epoch 20/30\n",
      "6/8 [=====================>........] - ETA: 0s - loss: 0.0115 - accuracy: 0.9948\n",
      "Epoch 00020: val_accuracy did not improve from 0.74667\n",
      "8/8 [==============================] - 0s 27ms/step - loss: 0.0100 - accuracy: 0.9956 - val_loss: 1.2114 - val_accuracy: 0.6933\n",
      "Epoch 21/30\n",
      "7/8 [=========================>....] - ETA: 0s - loss: 0.0096 - accuracy: 0.9955\n",
      "Epoch 00021: val_accuracy did not improve from 0.74667\n",
      "8/8 [==============================] - 0s 26ms/step - loss: 0.0095 - accuracy: 0.9956 - val_loss: 1.1885 - val_accuracy: 0.7333\n",
      "Epoch 22/30\n",
      "7/8 [=========================>....] - ETA: 0s - loss: 0.0081 - accuracy: 0.9955\n",
      "Epoch 00022: val_accuracy did not improve from 0.74667\n",
      "8/8 [==============================] - 0s 26ms/step - loss: 0.0081 - accuracy: 0.9956 - val_loss: 1.2136 - val_accuracy: 0.7333\n",
      "Epoch 23/30\n",
      "7/8 [=========================>....] - ETA: 0s - loss: 0.0088 - accuracy: 0.9955  \n",
      "Epoch 00023: val_accuracy did not improve from 0.74667\n",
      "8/8 [==============================] - 0s 24ms/step - loss: 0.0088 - accuracy: 0.9956 - val_loss: 1.2199 - val_accuracy: 0.7333\n",
      "Epoch 24/30\n",
      "7/8 [=========================>....] - ETA: 0s - loss: 0.0091 - accuracy: 0.9955\n",
      "Epoch 00024: val_accuracy did not improve from 0.74667\n",
      "8/8 [==============================] - 0s 24ms/step - loss: 0.0091 - accuracy: 0.9956 - val_loss: 1.2202 - val_accuracy: 0.7333\n",
      "Epoch 25/30\n",
      "7/8 [=========================>....] - ETA: 0s - loss: 0.0089 - accuracy: 0.9955  \n",
      "Epoch 00025: val_accuracy did not improve from 0.74667\n",
      "8/8 [==============================] - 0s 25ms/step - loss: 0.0089 - accuracy: 0.9956 - val_loss: 1.2188 - val_accuracy: 0.7467\n",
      "Epoch 26/30\n",
      "6/8 [=====================>........] - ETA: 0s - loss: 0.0072 - accuracy: 0.9948  \n",
      "Epoch 00026: val_accuracy did not improve from 0.74667\n",
      "8/8 [==============================] - 0s 28ms/step - loss: 0.0100 - accuracy: 0.9911 - val_loss: 1.2620 - val_accuracy: 0.6933\n",
      "Epoch 27/30\n",
      "6/8 [=====================>........] - ETA: 0s - loss: 0.0091 - accuracy: 1.0000\n",
      "Epoch 00027: val_accuracy did not improve from 0.74667\n",
      "8/8 [==============================] - 0s 28ms/step - loss: 0.0078 - accuracy: 1.0000 - val_loss: 1.2318 - val_accuracy: 0.7333\n",
      "Epoch 28/30\n",
      "7/8 [=========================>....] - ETA: 0s - loss: 0.0081 - accuracy: 0.9955\n",
      "Epoch 00028: val_accuracy did not improve from 0.74667\n",
      "8/8 [==============================] - 0s 29ms/step - loss: 0.0080 - accuracy: 0.9956 - val_loss: 1.2963 - val_accuracy: 0.7067\n",
      "Epoch 29/30\n",
      "6/8 [=====================>........] - ETA: 0s - loss: 0.0065 - accuracy: 0.9948  \n",
      "Epoch 00029: val_accuracy improved from 0.74667 to 0.76000, saving model to best_model_lstm.hdf5\n",
      "8/8 [==============================] - 0s 35ms/step - loss: 0.0067 - accuracy: 0.9956 - val_loss: 1.2712 - val_accuracy: 0.7600\n"
     ]
    },
    {
     "name": "stdout",
     "output_type": "stream",
     "text": [
      "Epoch 30/30\n",
      "7/8 [=========================>....] - ETA: 0s - loss: 0.0059 - accuracy: 1.0000\n",
      "Epoch 00030: val_accuracy did not improve from 0.76000\n",
      "8/8 [==============================] - 0s 28ms/step - loss: 0.0059 - accuracy: 1.0000 - val_loss: 1.3236 - val_accuracy: 0.7467\n"
     ]
    }
   ],
   "source": [
    "checkpoint = ModelCheckpoint(\"best_model_lstm.hdf5\", monitor='val_accuracy', verbose=1, \n",
    "                              save_best_only=True, mode='auto', save_weights_only=False)\n",
    "history_lstm = model_lstm.fit(train_padded, y_train, epochs = 30, validation_data = (test_padded, y_test), callbacks=[checkpoint])"
   ]
  },
  {
   "cell_type": "code",
   "execution_count": 128,
   "metadata": {},
   "outputs": [
    {
     "data": {
      "text/plain": [
       "<matplotlib.legend.Legend at 0x2a66e575df0>"
      ]
     },
     "execution_count": 128,
     "metadata": {},
     "output_type": "execute_result"
    },
    {
     "data": {
      "image/png": "[encoded data removed]",
      "text/plain": [
       "<Figure size 432x288 with 1 Axes>"
      ]
     },
     "metadata": {
      "needs_background": "light"
     },
     "output_type": "display_data"
    }
   ],
   "source": [
    "# plotting the loss and validation loss of the model\n",
    "plt.plot(history_lstm.history['loss'], label='loss')\n",
    "plt.plot(history_lstm.history['val_loss'], label = 'val_loss')\n",
    "plt.legend()\n",
    "\n",
    "# plotting the accuracy and validation accuracy of the model\n",
    "plt.plot(history_lstm.history['accuracy'], label= 'accuracy')\n",
    "plt.plot(history_lstm.history['val_accuracy'], label='val_accuracy')\n",
    "plt.legend()"
   ]
  },
  {
   "cell_type": "markdown",
   "metadata": {},
   "source": [
    "Based on the training accuracy plot, its seem that our model able to decrese its validation and training loss but the accuracy stays the same. It might be because our model could not fit to the data. "
   ]
  },
  {
   "cell_type": "markdown",
   "metadata": {},
   "source": [
    "**Dive deeper: Tweak LSTM model**"
   ]
  },
  {
   "cell_type": "markdown",
   "metadata": {},
   "source": [
    "Tweak the model layers and/or the parameter to raise the validation accuracy!"
   ]
  },
  {
   "cell_type": "code",
   "execution_count": 35,
   "metadata": {},
   "outputs": [],
   "source": [
    "# YOUR CODE HERE"
   ]
  },
  {
   "cell_type": "markdown",
   "metadata": {},
   "source": [
    "# GRU Layer"
   ]
  },
  {
   "cell_type": "markdown",
   "metadata": {},
   "source": [
    "The workflow of the Gated Recurrent Unit (GRU) is the same as the RNN, but the difference is in the operation and gates associated with each GRU unit. It combines the forget and input gates into a single update gate. **GRU is computationally more efficient than LSTM** due to its fewer parameters and less complex structure. To solve the problem faced by standard RNN, GRU incorporates the two gate operating mechanisms called Update gate and Reset gate."
   ]
  },
  {
   "cell_type": "markdown",
   "metadata": {},
   "source": [
    "<figure>\n",
    "    <center>\n",
    "    <img src=\"assets/GRU.png\" width=\"50%\">\n",
    "<figcaption>Source: https://towardsdatascience.com/illustrated-guide-to-lstms-and-gru-s-a-step-by-step-explanation-44e9eb85bf21</figcaption> \n",
    "    </center>\n",
    "</figure>"
   ]
  },
  {
   "cell_type": "markdown",
   "metadata": {},
   "source": [
    "- **Update gate**: The update gate is responsible for determining the amount of previous information that needs to pass along the next state. This is really powerful because the model can decide to copy all the information from the past and eliminate the risk of vanishing gradient.\n",
    "\n",
    "- **Reset gate**: The reset gate is used from the model to decide how much of the past information is needed to neglect; in short, it decides whether the previous cell state is important or not.     "
   ]
  },
  {
   "cell_type": "markdown",
   "metadata": {},
   "source": [
    "Mathematically, GRU can be illustrated as below:\n",
    "\n",
    "<figure>\n",
    "    <center>\n",
    "    <img src=\"assets/LSTM3-var-GRU.png\" width=\"70%\">\n",
    "    <figcaption>Source: http://colah.github.io/posts/2015-08-Understanding-LSTMs/</figcaption> \n",
    "    </center>\n",
    "</figure>"
   ]
  },
  {
   "cell_type": "markdown",
   "metadata": {},
   "source": [
    "First we define a next hidden state vector using\n",
    "$$h_t = tanh(W_{xh} x_t + W_{hh} (r_t\\odot h_{t-1}) + b_h)$$\n",
    "where $r_t = \\sigma (W_{xr} x_t + W_{hr} h_{t-1} + b_r)$ is known as the **reset gate**, since it determines how much of the old state we want to add to the current observation. Once we have computed the candidate new state, the model computes the actual new state using the candidate state for some dimensions and the old state for others: $$h_t = z_t \\odot h_{t-1} + (1 - z_t) \\odot \\widetilde{h}_t$$ where $z_t = \\sigma (W_{xz} x_t + W_{hz} h_{t-1} + b_z)$ is the **update gate**"
   ]
  },
  {
   "cell_type": "markdown",
   "metadata": {},
   "source": [
    "> For more detailed information you can visit the documentation on [GRU layers](https://keras.io/api/layers/recurrent_layers/gru/)"
   ]
  },
  {
   "cell_type": "code",
   "execution_count": 130,
   "metadata": {},
   "outputs": [
    {
     "name": "stdout",
     "output_type": "stream",
     "text": [
      "Model: \"sequential_2\"\n",
      "_________________________________________________________________\n",
      " Layer (type)                Output Shape              Param #   \n",
      "=================================================================\n",
      " embedding_2 (Embedding)     (None, 20, 128)           47104     \n",
      "                                                                 \n",
      " gru (GRU)                   (None, 20, 64)            37248     \n",
      "                                                                 \n",
      " gru_1 (GRU)                 (None, 64)                24960     \n",
      "                                                                 \n",
      " dropout_1 (Dropout)         (None, 64)                0         \n",
      "                                                                 \n",
      " dense_1 (Dense)             (None, 1)                 65        \n",
      "                                                                 \n",
      "=================================================================\n",
      "Total params: 109,377\n",
      "Trainable params: 109,377\n",
      "Non-trainable params: 0\n",
      "_________________________________________________________________\n",
      "None\n"
     ]
    }
   ],
   "source": [
    "tf.random.set_seed(123)\n",
    "\n",
    "embedding_size = 128\n",
    "\n",
    "model_gru = keras.models.Sequential([\n",
    "    keras.layers.Embedding(input_dim=num_words, \n",
    "                           output_dim=embedding_size, \n",
    "                           input_length=max_length),\n",
    "    keras.layers.GRU(units=64, return_sequences=True),\n",
    "    keras.layers.GRU(units=64, return_sequences=False),\n",
    "    keras.layers.Dropout(rate=0.2),\n",
    "    keras.layers.Dense(units=1, activation='sigmoid')\n",
    "])\n",
    "model_gru.compile(optimizer='adam', loss='binary_crossentropy', metrics=['accuracy'])\n",
    "print(model_gru.summary())"
   ]
  },
  {
   "cell_type": "code",
   "execution_count": 132,
   "metadata": {},
   "outputs": [
    {
     "name": "stdout",
     "output_type": "stream",
     "text": [
      "Model: \"sequential_1\"\n",
      "_________________________________________________________________\n",
      " Layer (type)                Output Shape              Param #   \n",
      "=================================================================\n",
      " embedding_1 (Embedding)     (None, 20, 128)           47104     \n",
      "                                                                 \n",
      " lstm (LSTM)                 (None, 20, 64)            49408     \n",
      "                                                                 \n",
      " lstm_1 (LSTM)               (None, 64)                33024     \n",
      "                                                                 \n",
      " dropout (Dropout)           (None, 64)                0         \n",
      "                                                                 \n",
      " dense (Dense)               (None, 1)                 65        \n",
      "                                                                 \n",
      "=================================================================\n",
      "Total params: 129,601\n",
      "Trainable params: 129,601\n",
      "Non-trainable params: 0\n",
      "_________________________________________________________________\n"
     ]
    }
   ],
   "source": [
    "# compare the amounts of parameters with lstm model\n",
    "model_lstm.summary()"
   ]
  },
  {
   "cell_type": "markdown",
   "metadata": {},
   "source": [
    "> 💡 Note: Compare the number of parameters of `model_lstm` and `model_gru`, specifically on the stacked layer. GRU should have less parameters than LSTM."
   ]
  },
  {
   "cell_type": "code",
   "execution_count": 133,
   "metadata": {},
   "outputs": [
    {
     "name": "stdout",
     "output_type": "stream",
     "text": [
      "Epoch 1/10\n",
      "8/8 [==============================] - 5s 130ms/step - loss: 0.6911 - accuracy: 0.5156 - val_loss: 0.6857 - val_accuracy: 0.5867\n",
      "Epoch 2/10\n",
      "8/8 [==============================] - 0s 23ms/step - loss: 0.6715 - accuracy: 0.5244 - val_loss: 0.6707 - val_accuracy: 0.5867\n",
      "Epoch 3/10\n",
      "8/8 [==============================] - 0s 22ms/step - loss: 0.6302 - accuracy: 0.5556 - val_loss: 0.6394 - val_accuracy: 0.5733\n",
      "Epoch 4/10\n",
      "8/8 [==============================] - 0s 20ms/step - loss: 0.5077 - accuracy: 0.7644 - val_loss: 0.6555 - val_accuracy: 0.6267\n",
      "Epoch 5/10\n",
      "8/8 [==============================] - 0s 22ms/step - loss: 0.3611 - accuracy: 0.8844 - val_loss: 0.8339 - val_accuracy: 0.5867\n",
      "Epoch 6/10\n",
      "8/8 [==============================] - 0s 22ms/step - loss: 0.2442 - accuracy: 0.8889 - val_loss: 0.7142 - val_accuracy: 0.6400\n",
      "Epoch 7/10\n",
      "8/8 [==============================] - 0s 20ms/step - loss: 0.1612 - accuracy: 0.9289 - val_loss: 0.8284 - val_accuracy: 0.6667\n",
      "Epoch 8/10\n",
      "8/8 [==============================] - 0s 20ms/step - loss: 0.0950 - accuracy: 0.9644 - val_loss: 0.8082 - val_accuracy: 0.7333\n",
      "Epoch 9/10\n",
      "8/8 [==============================] - 0s 26ms/step - loss: 0.0577 - accuracy: 0.9822 - val_loss: 0.9944 - val_accuracy: 0.6533\n",
      "Epoch 10/10\n",
      "8/8 [==============================] - 0s 27ms/step - loss: 0.0662 - accuracy: 0.9778 - val_loss: 0.8095 - val_accuracy: 0.7733\n"
     ]
    },
    {
     "data": {
      "text/plain": [
       "<keras.callbacks.History at 0x2a66f76ebb0>"
      ]
     },
     "execution_count": 133,
     "metadata": {},
     "output_type": "execute_result"
    }
   ],
   "source": [
    "model_gru.fit(\n",
    "    x=train_padded, y=y_train,\n",
    "    validation_data=(test_padded, y_test),\n",
    "    epochs=10)"
   ]
  },
  {
   "cell_type": "markdown",
   "metadata": {},
   "source": [
    "- LSTM: accuracy: 0.9467 - val_loss: 0.8452 - val_accuracy: 0.6400\n",
    "- GRU: accuracy: 0.9778 - val_loss: 0.8095 - val_accuracy: 0.7733"
   ]
  },
  {
   "cell_type": "code",
   "execution_count": 135,
   "metadata": {},
   "outputs": [
    {
     "data": {
      "text/plain": [
       "<matplotlib.legend.Legend at 0x2a672da8be0>"
      ]
     },
     "execution_count": 135,
     "metadata": {},
     "output_type": "execute_result"
    },
    {
     "data": {
      "image/png": "[encoded data removed]",
      "text/plain": [
       "<Figure size 432x288 with 1 Axes>"
      ]
     },
     "metadata": {
      "needs_background": "light"
     },
     "output_type": "display_data"
    }
   ],
   "source": [
    "# plotting the loss and validation loss of the model\n",
    "plt.plot(model_gru.history.history['loss'], label='loss')\n",
    "plt.plot(model_gru.history.history['val_loss'], label='val_loss')\n",
    "plt.legend()"
   ]
  },
  {
   "cell_type": "code",
   "execution_count": 136,
   "metadata": {},
   "outputs": [
    {
     "data": {
      "text/plain": [
       "<matplotlib.legend.Legend at 0x2a673ddddc0>"
      ]
     },
     "execution_count": 136,
     "metadata": {},
     "output_type": "execute_result"
    },
    {
     "data": {
      "image/png": "[encoded data removed]",
      "text/plain": [
       "<Figure size 432x288 with 1 Axes>"
      ]
     },
     "metadata": {
      "needs_background": "light"
     },
     "output_type": "display_data"
    }
   ],
   "source": [
    "# plotting the accuracy and validation accuracy of the model\n",
    "plt.plot(model_gru.history.history['accuracy'], label='accuracy')\n",
    "plt.plot(model_gru.history.history['val_accuracy'], label='val_accuracy')\n",
    "plt.legend()"
   ]
  },
  {
   "cell_type": "markdown",
   "metadata": {},
   "source": [
    "# Variant of RNN: Bidirectional RNN"
   ]
  },
  {
   "cell_type": "markdown",
   "metadata": {},
   "source": [
    "A typical state in an RNN (simple RNN, GRU, or LSTM) relies on the past and the present events. A state at time $t$ depends on the states $x_1, x_2, ... x_{t-1}$ and $x_t$. However, there can be situations where a prediction depends on the past, present, and future events. To enable straight (past) and reverse traversal of input (future), Bidirectional RNNs, or BRNNs, are used. A BRNN is a combination of two RNNs - **one RNN moves forward**, beginning from the start of the data sequence, and the other, **moves backward**, beginning from the end of the data sequence (Mind you; this is __not__ the same as the backpropagation process.). The network blocks in a BRNN can either be simple RNNs, GRUs, or LSTMs."
   ]
  },
  {
   "cell_type": "markdown",
   "metadata": {},
   "source": [
    "<figure>\n",
    "    <center>\n",
    "    <img src=\"assets/brnn.png\" width=\"70%\">\n",
    "<!--     <figcaption>Source: http://colah.github.io/posts/2015-09-NN-Types-FP/</figcaption> -->\n",
    "    </center>\n",
    "</figure>"
   ]
  },
  {
   "cell_type": "markdown",
   "metadata": {},
   "source": [
    "For example, suppose you want to solve the Named Entity Recognition problem, and you face these sentences:\n",
    "1. *__Palu__ itu terletak di atas meja*\n",
    "2. *Aku baru tau __Palu__ itu Ibukota dari Sulawesi Tengah*\n",
    "\n",
    "Is 'Palu' a tool (martil) or a City? You can directly know the answer after you read the next words. Let's look at the second sentence and make it as if an input to BRNN.\n",
    "\n",
    "<figure>\n",
    "    <center>\n",
    "    <img src=\"assets/brnn_example.png\" width=\"70%\">\n",
    "    </center>\n",
    "</figure>\n",
    "\n",
    "Notice that output $Y_3$ has influence not only from word 'Aku', 'baru', 'tau' from input $X_0$ to $X_1$, but also from future words as well. 'itu Ibukota Sulawesi Tengah' sentence influence $Y_3$ output from layer $A'$ direction."
   ]
  },
  {
   "cell_type": "markdown",
   "metadata": {},
   "source": [
    "A BRNN has an additional hidden layer to accommodate the backward training process. At any given time $t$, the forward and backward hidden states are updated as follows:"
   ]
  },
  {
   "cell_type": "markdown",
   "metadata": {},
   "source": [
    "$$\\large A_t(Forward) = \\phi (X_t * W_{XA}^{forward} + A_{t-1}(Forward) * W_{AA}^{forward} + b_A^{forward})$$\n",
    "\n",
    "$$\\large A_t(Backward) = \\phi (X_t * W_{XA}^{backward} + A_{t-1}(Backward) * W_{AA}^{backward} + b_A^{backward})$$\n",
    "\n",
    "where $\\phi$ is the activation function, $W$, the weight matrix, and $b$, the bias. The hidden state at time $t$ is given by a combination of $A_t(Forward)$ and $A_t(Backward)$. The output at any given hidden state is:\n",
    "\n",
    "$$\\large O_t = H_t * W_{AY} + b_Y$$"
   ]
  },
  {
   "cell_type": "markdown",
   "metadata": {},
   "source": [
    "## 🏄‍ Dive Deeper: Build BRNN Model\n",
    "\n",
    "We can use Keras [Bidirectional](https://keras.io/api/layers/recurrent_layers/bidirectional/) layer. \n",
    "Syntactically, we will wrap the RNN layer with Bidirectional as follows:\n",
    "\n",
    "```{python}\n",
    "keras.layers.Bidirectional(keras.layers.___(...))\n",
    "```\n",
    "\n",
    "Where the `___` can be filled by types of RNN, such as:\n",
    "- `SimpleRNN`\n",
    "- `LSTM`\n",
    "- `GRU`"
   ]
  },
  {
   "cell_type": "code",
   "execution_count": null,
   "metadata": {},
   "outputs": [],
   "source": [
    "tf.random.set_seed(123)\n",
    "\n",
    "embedding_size = ___\n",
    "\n",
    "model_brnn = keras.models.Sequential([\n",
    "    # embedding layer\n",
    "    ___,\n",
    "    \n",
    "    # bidirectional RNN (SimpleRNN / LSTM / GRU)\n",
    "    # if you want, you can stack 2 layers of bidirectional RNN too\n",
    "    keras.layers.Bidirectional(keras.layers.LSTM(...)),\n",
    "    keras.layers.Bidirectional(keras.layers.LSTM(...)),\n",
    "    \n",
    "    # dropout layer (if needed)\n",
    "    ___,\n",
    "    \n",
    "    # output layer (mandatory)\n",
    "    ___\n",
    "])\n",
    "\n",
    "model_brnn.compile(___)\n",
    "print(model_brnn.summary())"
   ]
  },
  {
   "cell_type": "code",
   "execution_count": null,
   "metadata": {},
   "outputs": [],
   "source": [
    "model_brnn.fit(___)"
   ]
  },
  {
   "cell_type": "code",
   "execution_count": null,
   "metadata": {},
   "outputs": [],
   "source": [
    "# plotting the loss and validation loss of the model\n",
    "plt.plot(model_brnn.history.history['loss'], label='loss')\n",
    "plt.plot(model_brnn.history.history['val_loss'], label='val_loss')\n",
    "plt.legend()"
   ]
  },
  {
   "cell_type": "code",
   "execution_count": null,
   "metadata": {},
   "outputs": [],
   "source": [
    "# plotting the accuracy and validation accuracy of the model\n",
    "plt.plot(model_brnn.history.history['accuracy'], label='accuracy')\n",
    "plt.plot(model_brnn.history.history['val_accuracy'], label='val_accuracy')\n",
    "plt.legend()"
   ]
  },
  {
   "cell_type": "markdown",
   "metadata": {},
   "source": [
    "# Predict Unseen Tweet\n",
    "\n",
    "**💬 Discussion**\n",
    "\n",
    "We have built 3 different models, according to the loss and accuracy, which one is considered as the best model? Please define the variable below:"
   ]
  },
  {
   "cell_type": "code",
   "execution_count": null,
   "metadata": {},
   "outputs": [],
   "source": [
    "best_model = ___"
   ]
  },
  {
   "cell_type": "markdown",
   "metadata": {},
   "source": [
    "To predict unseen tweet using `best_model`, we have to treat it the same way as we treat the original text, which covers:\n",
    "\n",
    "- Text Preprocessing\n",
    "- Tokenization\n",
    "- Pad Sequence"
   ]
  },
  {
   "cell_type": "code",
   "execution_count": 137,
   "metadata": {},
   "outputs": [],
   "source": [
    "# define the preprocessing pipeline\n",
    "def text_preprocessing(text):\n",
    "    # case folding\n",
    "    text = text.lower()\n",
    "    \n",
    "    # text cleansing\n",
    "    text = text_cleansing(text)\n",
    "    \n",
    "    # text normalization\n",
    "    text = normalize_text(text)\n",
    "    \n",
    "    # stemming\n",
    "    text = stemmer.stem(text)\n",
    "    \n",
    "    return text"
   ]
  },
  {
   "cell_type": "code",
   "execution_count": null,
   "metadata": {},
   "outputs": [],
   "source": [
    "# unseen tweet\n",
    "new_tweet = \"kok sekarang <PROVIDER_NAME> sinyalnya bapuk banget ya? hiksss :(\"\n",
    "\n",
    "# preprocess\n",
    "text_cleaned = text_preprocessing(new_tweet)\n",
    "text_sequence = tokenizer.texts_to_sequences([text_cleaned])\n",
    "seq_padded = pad_sequences(text_sequence, maxlen=max_length)\n",
    "\n",
    "# prediction\n",
    "pred_proba = best_model.predict(seq_padded)\n",
    "pred_proba"
   ]
  },
  {
   "cell_type": "code",
   "execution_count": null,
   "metadata": {},
   "outputs": [],
   "source": [
    "prob2label = lambda x: 'Negative' if x <= 0.5 else 'Positive'\n",
    "prob2label(pred_proba)"
   ]
  },
  {
   "cell_type": "markdown",
   "metadata": {},
   "source": [
    "> From here, if you are willing to build an application that predict sentiment based on user input, you have to save the following object:\n",
    "> - model configuration as json file\n",
    "> - model weights as HDF5 file\n",
    "> - tokenizer as pickle file\n",
    "\n",
    "```{python}\n",
    "import pickle\n",
    "\n",
    "# serialize model to JSON\n",
    "model_json = model.to_json()\n",
    "with open(\"model/model.json\", \"w\") as json_file:\n",
    "    json_file.write(model_json)\n",
    "\n",
    "# serialize weights to HDF5\n",
    "model.save_weights(\"model/model-weights.h5\")\n",
    "\n",
    "# saving tokenizer\n",
    "with open('tokenizer.pickle', 'wb') as handle:\n",
    "    pickle.dump(tokenizer, handle, protocol=pickle.HIGHEST_PROTOCOL)\n",
    "```"
   ]
  },
  {
   "cell_type": "markdown",
   "metadata": {},
   "source": [
    "**Additional Example: Bidirectional GRU Model**"
   ]
  },
  {
   "cell_type": "code",
   "execution_count": 36,
   "metadata": {},
   "outputs": [
    {
     "name": "stdout",
     "output_type": "stream",
     "text": [
      "Epoch 1/20\n",
      "7/7 [==============================] - ETA: 0s - loss: 4.0621 - accuracy: 0.5143\n",
      "Epoch 00001: val_accuracy improved from -inf to 0.44444, saving model to best_model_bGRU.hdf5\n",
      "7/7 [==============================] - 13s 438ms/step - loss: 4.0621 - accuracy: 0.5143 - val_loss: 3.9684 - val_accuracy: 0.4444\n",
      "Epoch 2/20\n",
      "5/7 [====================>.........] - ETA: 0s - loss: 3.9114 - accuracy: 0.5875\n",
      "Epoch 00002: val_accuracy did not improve from 0.44444\n",
      "7/7 [==============================] - 0s 47ms/step - loss: 3.8912 - accuracy: 0.5762 - val_loss: 3.7892 - val_accuracy: 0.4444\n",
      "Epoch 3/20\n",
      "4/7 [================>.............] - ETA: 0s - loss: 3.7428 - accuracy: 0.5625\n",
      "Epoch 00003: val_accuracy did not improve from 0.44444\n",
      "7/7 [==============================] - 0s 36ms/step - loss: 3.7093 - accuracy: 0.5762 - val_loss: 3.6207 - val_accuracy: 0.4444\n",
      "Epoch 4/20\n",
      "4/7 [================>.............] - ETA: 0s - loss: 3.5712 - accuracy: 0.5938\n",
      "Epoch 00004: val_accuracy did not improve from 0.44444\n",
      "7/7 [==============================] - 0s 27ms/step - loss: 3.5440 - accuracy: 0.5762 - val_loss: 3.4706 - val_accuracy: 0.4444\n",
      "Epoch 5/20\n",
      "6/7 [========================>.....] - ETA: 0s - loss: 3.4019 - accuracy: 0.5729\n",
      "Epoch 00005: val_accuracy did not improve from 0.44444\n",
      "7/7 [==============================] - 0s 63ms/step - loss: 3.3954 - accuracy: 0.5762 - val_loss: 3.3373 - val_accuracy: 0.4444\n",
      "Epoch 6/20\n",
      "7/7 [==============================] - ETA: 0s - loss: 3.2634 - accuracy: 0.5762\n",
      "Epoch 00006: val_accuracy did not improve from 0.44444\n",
      "7/7 [==============================] - 0s 58ms/step - loss: 3.2634 - accuracy: 0.5762 - val_loss: 3.2182 - val_accuracy: 0.4444\n",
      "Epoch 7/20\n",
      "6/7 [========================>.....] - ETA: 0s - loss: 3.1517 - accuracy: 0.5677\n",
      "Epoch 00007: val_accuracy did not improve from 0.44444\n",
      "7/7 [==============================] - 0s 46ms/step - loss: 3.1455 - accuracy: 0.5762 - val_loss: 3.1104 - val_accuracy: 0.4444\n",
      "Epoch 8/20\n",
      "6/7 [========================>.....] - ETA: 0s - loss: 3.0458 - accuracy: 0.5729\n",
      "Epoch 00008: val_accuracy did not improve from 0.44444\n",
      "7/7 [==============================] - 0s 36ms/step - loss: 3.0406 - accuracy: 0.5762 - val_loss: 3.0129 - val_accuracy: 0.4444\n",
      "Epoch 9/20\n",
      "6/7 [========================>.....] - ETA: 0s - loss: 2.9475 - accuracy: 0.5781\n",
      "Epoch 00009: val_accuracy did not improve from 0.44444\n",
      "7/7 [==============================] - 0s 55ms/step - loss: 2.9441 - accuracy: 0.5762 - val_loss: 2.9236 - val_accuracy: 0.4444\n",
      "Epoch 10/20\n",
      "4/7 [================>.............] - ETA: 0s - loss: 2.8651 - accuracy: 0.6016\n",
      "Epoch 00010: val_accuracy did not improve from 0.44444\n",
      "7/7 [==============================] - 0s 45ms/step - loss: 2.8551 - accuracy: 0.5762 - val_loss: 2.8408 - val_accuracy: 0.4444\n",
      "Epoch 11/20\n",
      "6/7 [========================>.....] - ETA: 0s - loss: 2.7750 - accuracy: 0.5781\n",
      "Epoch 00011: val_accuracy did not improve from 0.44444\n",
      "7/7 [==============================] - 0s 62ms/step - loss: 2.7723 - accuracy: 0.5762 - val_loss: 2.7633 - val_accuracy: 0.4444\n",
      "Epoch 12/20\n",
      "7/7 [==============================] - ETA: 0s - loss: 2.6967 - accuracy: 0.5762\n",
      "Epoch 00012: val_accuracy did not improve from 0.44444\n",
      "7/7 [==============================] - 0s 54ms/step - loss: 2.6967 - accuracy: 0.5762 - val_loss: 2.6905 - val_accuracy: 0.4444\n",
      "Epoch 13/20\n",
      "7/7 [==============================] - ETA: 0s - loss: 2.6244 - accuracy: 0.5762\n",
      "Epoch 00013: val_accuracy did not improve from 0.44444\n",
      "7/7 [==============================] - 0s 46ms/step - loss: 2.6244 - accuracy: 0.5762 - val_loss: 2.6227 - val_accuracy: 0.4444\n",
      "Epoch 14/20\n",
      "4/7 [================>.............] - ETA: 0s - loss: 2.5600 - accuracy: 0.6094\n",
      "Epoch 00014: val_accuracy did not improve from 0.44444\n",
      "7/7 [==============================] - 0s 53ms/step - loss: 2.5565 - accuracy: 0.5762 - val_loss: 2.5586 - val_accuracy: 0.4444\n",
      "Epoch 15/20\n",
      "7/7 [==============================] - ETA: 0s - loss: 2.4918 - accuracy: 0.5762\n",
      "Epoch 00015: val_accuracy did not improve from 0.44444\n",
      "7/7 [==============================] - 0s 59ms/step - loss: 2.4918 - accuracy: 0.5762 - val_loss: 2.4970 - val_accuracy: 0.4444\n",
      "Epoch 16/20\n",
      "7/7 [==============================] - ETA: 0s - loss: 2.4333 - accuracy: 0.5762\n",
      "Epoch 00016: val_accuracy did not improve from 0.44444\n",
      "7/7 [==============================] - 0s 46ms/step - loss: 2.4333 - accuracy: 0.5762 - val_loss: 2.4400 - val_accuracy: 0.4444\n",
      "Epoch 17/20\n",
      "7/7 [==============================] - ETA: 0s - loss: 2.3748 - accuracy: 0.5762\n",
      "Epoch 00017: val_accuracy did not improve from 0.44444\n",
      "7/7 [==============================] - 0s 50ms/step - loss: 2.3748 - accuracy: 0.5762 - val_loss: 2.3851 - val_accuracy: 0.4444\n",
      "Epoch 18/20\n",
      "6/7 [========================>.....] - ETA: 0s - loss: 2.3259 - accuracy: 0.5677\n",
      "Epoch 00018: val_accuracy did not improve from 0.44444\n",
      "7/7 [==============================] - 0s 35ms/step - loss: 2.3208 - accuracy: 0.5762 - val_loss: 2.3326 - val_accuracy: 0.4444\n",
      "Epoch 19/20\n",
      "7/7 [==============================] - ETA: 0s - loss: 2.2681 - accuracy: 0.5762\n",
      "Epoch 00019: val_accuracy did not improve from 0.44444\n",
      "7/7 [==============================] - 0s 54ms/step - loss: 2.2681 - accuracy: 0.5762 - val_loss: 2.2826 - val_accuracy: 0.4444\n",
      "Epoch 20/20\n",
      "7/7 [==============================] - ETA: 0s - loss: 2.2179 - accuracy: 0.5762\n",
      "Epoch 00020: val_accuracy did not improve from 0.44444\n",
      "7/7 [==============================] - 0s 57ms/step - loss: 2.2179 - accuracy: 0.5762 - val_loss: 2.2343 - val_accuracy: 0.4444\n"
     ]
    }
   ],
   "source": [
    "model2 = Sequential()\n",
    "\n",
    "model2.add(Embedding(num_words, embedding_size, input_length=max_length))\n",
    "model2.add(Bidirectional(GRU(12,dropout=0.4, kernel_regularizer=regularizers.l2(0.05), recurrent_regularizer=regularizers.l2(0.05))))\n",
    "model2.add(Dense(1, activation='sigmoid'))\n",
    "\n",
    "model2.compile(loss='binary_crossentropy', optimizer = optimizer, metrics=['accuracy'])\n",
    "\n",
    "checkpoint2 = ModelCheckpoint(\"best_model_bGRU.hdf5\", monitor='val_accuracy', verbose=1, \n",
    "                              save_best_only=True, mode='auto', save_weights_only=False)\n",
    "history_bgru = model2.fit(train_padded, y_train, epochs = 20, validation_data = (test_padded, y_test), callbacks=[checkpoint2])"
   ]
  },
  {
   "cell_type": "markdown",
   "metadata": {},
   "source": [
    "**Model Evaluation**"
   ]
  },
  {
   "cell_type": "code",
   "execution_count": 37,
   "metadata": {},
   "outputs": [
    {
     "data": {
      "text/plain": [
       "<matplotlib.legend.Legend at 0x15552af1940>"
      ]
     },
     "execution_count": 37,
     "metadata": {},
     "output_type": "execute_result"
    },
    {
     "data": {
      "image/png": "[encoded data removed]",
      "text/plain": [
       "<Figure size 432x288 with 1 Axes>"
      ]
     },
     "metadata": {
      "needs_background": "light"
     },
     "output_type": "display_data"
    }
   ],
   "source": [
    "## Bidirectional BRU Model \n",
    "# plotting the loss and validation loss of the model\n",
    "plt.plot(history_bgru.history['loss'], label='loss')\n",
    "plt.plot(history_bgru.history['val_loss'], label = 'val_loss')\n",
    "plt.legend()"
   ]
  },
  {
   "cell_type": "markdown",
   "metadata": {},
   "source": [
    "Based on validation loss and training loss. Our model has succesfully decreasing its loss. "
   ]
  },
  {
   "cell_type": "code",
   "execution_count": 38,
   "metadata": {},
   "outputs": [
    {
     "data": {
      "text/plain": [
       "<matplotlib.legend.Legend at 0x15552b5cd90>"
      ]
     },
     "execution_count": 38,
     "metadata": {},
     "output_type": "execute_result"
    },
    {
     "data": {
      "image/png": "[encoded data removed]",
      "text/plain": [
       "<Figure size 432x288 with 1 Axes>"
      ]
     },
     "metadata": {
      "needs_background": "light"
     },
     "output_type": "display_data"
    }
   ],
   "source": [
    "# plotting the accuracy and validation accuracy of the model\n",
    "plt.plot(history_bgru.history['accuracy'], label= 'accuracy')\n",
    "plt.plot(history_bgru.history['val_accuracy'], label='val_accuracy')\n",
    "plt.legend()"
   ]
  },
  {
   "cell_type": "markdown",
   "metadata": {},
   "source": [
    "But if we look at the validation accuracy plot, our model has not reached the best accuracy yet, and it might have to be tuning again to increase accuracy value."
   ]
  },
  {
   "cell_type": "code",
   "execution_count": 39,
   "metadata": {},
   "outputs": [
    {
     "name": "stdout",
     "output_type": "stream",
     "text": [
      "WARNING:tensorflow:Error in loading the saved optimizer state. As a result, your model is starting with a freshly initialized optimizer.\n"
     ]
    }
   ],
   "source": [
    "best_model = keras.models.load_model(\"best_model_bgru.hdf5\")"
   ]
  },
  {
   "cell_type": "code",
   "execution_count": 40,
   "metadata": {},
   "outputs": [
    {
     "name": "stdout",
     "output_type": "stream",
     "text": [
      "3/3 - 2s - loss: 3.9684 - accuracy: 0.4444 - 2s/epoch - 719ms/step\n",
      "Model accuracy:  0.4444444477558136\n"
     ]
    }
   ],
   "source": [
    "test_loss, test_acc = best_model.evaluate(test_padded, y_test, verbose=2)\n",
    "print('Model accuracy: ',test_acc)"
   ]
  },
  {
   "cell_type": "markdown",
   "metadata": {},
   "source": [
    "**Try on**"
   ]
  },
  {
   "cell_type": "code",
   "execution_count": 41,
   "metadata": {},
   "outputs": [
    {
     "data": {
      "text/plain": [
       "'Negatif'"
      ]
     },
     "execution_count": 41,
     "metadata": {},
     "output_type": "execute_result"
    }
   ],
   "source": [
    "sentiment = ['Negatif','Positif']\n",
    "\n",
    "sequence = tokenizer.texts_to_sequences(['sinyalnya bapuk'])\n",
    "test = pad_sequences(sequence, maxlen=max_length)\n",
    "sentiment[int(np.around(best_model.predict(test), decimals=0))]"
   ]
  },
  {
   "cell_type": "code",
   "execution_count": 42,
   "metadata": {},
   "outputs": [
    {
     "data": {
      "text/plain": [
       "'Negatif'"
      ]
     },
     "execution_count": 42,
     "metadata": {},
     "output_type": "execute_result"
    }
   ],
   "source": [
    "sequence = tokenizer.texts_to_sequences(['pulsa murah'])\n",
    "test = pad_sequences(sequence, maxlen=max_length)\n",
    "sentiment[int(np.around(best_model.predict(test), decimals=0))]"
   ]
  },
  {
   "cell_type": "markdown",
   "metadata": {},
   "source": [
    "**Saving the model**"
   ]
  },
  {
   "cell_type": "code",
   "execution_count": 138,
   "metadata": {},
   "outputs": [],
   "source": [
    "# # serialize model to JSON\n",
    "# model_json = model.to_json()\n",
    "# with open(\"model/model.json\", \"w\") as json_file:\n",
    "#     json_file.write(model_json)\n",
    "# # serialize weights to HDF5\n",
    "# model.save_weights(\"model/model-weights.h5\")\n",
    "# print(\"Saved model to disk\")\n",
    "\n",
    "# # saving tokenizer\n",
    "# with open('tokenizer.pickle', 'wb') as handle:\n",
    "#     pickle.dump(tokenizer, handle, protocol=pickle.HIGHEST_PROTOCOL)\n",
    "# print('Tokenizer saved')"
   ]
  },
  {
   "cell_type": "markdown",
   "metadata": {},
   "source": [
    "# Additional: Audio Classification"
   ]
  },
  {
   "cell_type": "markdown",
   "metadata": {},
   "source": [
    "Deep learning for audio can be used to make audio and music generation, virtual assistants, automatic speech recognition, and text to speech applications. There are multiple ways to build an audio classification model. You can use the waveform, tag sections of a wave file, or even use computer vision on the spectrogram image. In this section, we will break down how to understand audio data"
   ]
  },
  {
   "cell_type": "markdown",
   "metadata": {},
   "source": [
    "## Libraries"
   ]
  },
  {
   "cell_type": "code",
   "execution_count": 44,
   "metadata": {},
   "outputs": [],
   "source": [
    "import os\n",
    "import pathlib\n",
    "\n",
    "import matplotlib.pyplot as plt\n",
    "import numpy as np\n",
    "import tensorflow as tf\n",
    "import IPython.display as ipd"
   ]
  },
  {
   "cell_type": "markdown",
   "metadata": {},
   "source": [
    "## Get the mini speech command dataset"
   ]
  },
  {
   "cell_type": "markdown",
   "metadata": {},
   "source": [
    "We will use a tensorflow dataset called Mini Speech Commands."
   ]
  },
  {
   "cell_type": "code",
   "execution_count": 59,
   "metadata": {},
   "outputs": [
    {
     "name": "stdout",
     "output_type": "stream",
     "text": [
      "Downloading data from http://storage.googleapis.com/download.tensorflow.org/data/mini_speech_commands.zip\n",
      "182083584/182082353 [==============================] - 75s 0us/step\n",
      "182091776/182082353 [==============================] - 75s 0us/step\n"
     ]
    }
   ],
   "source": [
    "DATASET_PATH = 'dataset/mini_speech_commands'\n",
    "\n",
    "data_dir = pathlib.Path(DATASET_PATH)\n",
    "if not data_dir.exists():\n",
    "  tf.keras.utils.get_file(\n",
    "      'mini_speech_commands.zip',\n",
    "      origin=\"http://storage.googleapis.com/download.tensorflow.org/data/mini_speech_commands.zip\",\n",
    "      extract=True,\n",
    "      cache_dir='.', cache_subdir='dataset')"
   ]
  },
  {
   "cell_type": "markdown",
   "metadata": {},
   "source": [
    "**Load the dataset**"
   ]
  },
  {
   "cell_type": "markdown",
   "metadata": {},
   "source": [
    "The dataset's audio clips are stored in eight folders corresponding to each speech command: no, yes, down, go, left, up, right, and stop."
   ]
  },
  {
   "cell_type": "code",
   "execution_count": 60,
   "metadata": {},
   "outputs": [],
   "source": [
    "def load_dataset(data_dir):\n",
    "    commands = np.array(tf.io.gfile.listdir(str(data_dir)))\n",
    "    commands = commands[commands != 'README.md']\n",
    "    return commands"
   ]
  },
  {
   "cell_type": "code",
   "execution_count": 61,
   "metadata": {},
   "outputs": [
    {
     "data": {
      "text/plain": [
       "array(['down', 'go', 'left', 'no', 'right', 'stop', 'up', 'yes'],\n",
       "      dtype='<U9')"
      ]
     },
     "execution_count": 61,
     "metadata": {},
     "output_type": "execute_result"
    }
   ],
   "source": [
    "commands = load_dataset(data_dir)\n",
    "commands"
   ]
  },
  {
   "cell_type": "code",
   "execution_count": 62,
   "metadata": {},
   "outputs": [
    {
     "name": "stdout",
     "output_type": "stream",
     "text": [
      "Number of total examples: 8000\n",
      "Number of examples per label: 1000\n",
      "Example file tensor: tf.Tensor(b'dataset\\\\mini_speech_commands\\\\go\\\\f264e0df_nohash_1.wav', shape=(), dtype=string)\n"
     ]
    }
   ],
   "source": [
    "filenames = tf.io.gfile.glob(str(data_dir) + '/*/*')\n",
    "filenames = tf.random.shuffle(filenames)\n",
    "num_samples = len(filenames)\n",
    "print('Number of total examples:', num_samples)\n",
    "print('Number of examples per label:',\n",
    "      len(tf.io.gfile.listdir(str(data_dir/commands[0]))))\n",
    "print('Example file tensor:', filenames[0])"
   ]
  },
  {
   "cell_type": "code",
   "execution_count": 63,
   "metadata": {},
   "outputs": [
    {
     "name": "stdout",
     "output_type": "stream",
     "text": [
      "Training set size 6400\n",
      "Validation set size 800\n",
      "Test set size 800\n"
     ]
    }
   ],
   "source": [
    "train_files = filenames[:6400]\n",
    "val_files = filenames[6400: 6400 + 800]\n",
    "test_files = filenames[-800:]\n",
    "\n",
    "print('Training set size', len(train_files))\n",
    "print('Validation set size', len(val_files))\n",
    "print('Test set size', len(test_files))"
   ]
  },
  {
   "cell_type": "markdown",
   "metadata": {},
   "source": [
    "## Understanding audio data"
   ]
  },
  {
   "cell_type": "markdown",
   "metadata": {},
   "source": [
    "Sound is a vibration that propagates as an acoustic wave. Sound has some properties like frequency, amplitude, speed, and direction. When talking about basic usage of machine learning in this domain, frequency and amplitude are the important features. We use a microphone to capture the sound and then it's converted from analog sound to digital sound by sampling at consistent intervals of time. This is called the **sample rate**. The higher the sample rate the higher the quality of the sound. However, after a certain point the difference is not able to be detected by the human ear. The average sound sample rate is 48 kHz or 48,000 samples per second. The dataset we'll use in this module was sampled at 16kHz, so our data was sampled 16,000 times per second.\n",
    "\n",
    "When we sample audio, we measure the **amplitude** or how loud the audio is, at a particular sample rate. We can then take that information and represent the **signal** in graphical format as a **waveform**. Another way to look at the audio information is by analyzing its **frequency** or pitch, which represents the number of complete waves per time period. The more waves, the higher the pitch. Also, audio can be recorded in different **channels**. For example stereo recordings have 2 channels, right and left.\n",
    "\n",
    "Before streaming song services developed rapidly as they are today, there were times when you had to download your favorite songs at the *warnet*. If you do, you must be familiar with MP3 format files. There is one more popular format for storing audio files, namely WAV. One of the differences between these two formats is that MP3 is compressed, and WAV files are uncompressed. To put you into some perspective, imagine we have the same image; one with a low-quality resolution representing MP3 and one with a high-quality resolution representing WAV. The Mini Speech Commands dataset that we are using for this tutorial is stored in wave files that are all one second or less. \n",
    "\n",
    "Let's load up one of the wave files and take a look at how the tensor for the waveform looks. We will do this by calling a decode_audio function that will read the wave audio file and return the waveform tensor. The function gets the audio_binary with tf.io.read_file then uses tf.audio.decode_wav to get the audio waveform to a tensor format (range of: -1 to 1) and the sample_rate."
   ]
  },
  {
   "cell_type": "code",
   "execution_count": 64,
   "metadata": {},
   "outputs": [],
   "source": [
    "file_path = DATASET_PATH+'/down/0a9f9af7_nohash_0.wav'\n",
    "\n",
    "def decode_audio(audio_binary):\n",
    "    # Decode WAV-encoded audio files to `float32` tensors, normalized\n",
    "    # to the [-1.0, 1.0] range. Return `float32` audio and a sample rate.\n",
    "    audio, _ = tf.audio.decode_wav(contents=audio_binary)\n",
    "    # Since all the data is single channel (mono), drop the `channels`\n",
    "    # axis from the array.\n",
    "    return tf.squeeze(audio, axis=-1)\n",
    "\n",
    "## This function has some code from https://www.tensorflow.org/tutorials/audio/simple_audio"
   ]
  },
  {
   "cell_type": "markdown",
   "metadata": {},
   "source": [
    "Define a function that creates labels using the parent directories for each file:"
   ]
  },
  {
   "cell_type": "code",
   "execution_count": 65,
   "metadata": {},
   "outputs": [],
   "source": [
    "def get_label(file_path):\n",
    "    parts = tf.strings.split(\n",
    "      input=file_path,\n",
    "      sep=os.path.sep)\n",
    "    # Note: You'll use indexing here instead of tuple unpacking to enable this\n",
    "    # to work in a TensorFlow graph.\n",
    "    return parts[-2]\n",
    "\n",
    "## This function has some code from https://www.tensorflow.org/tutorials/audio/simple_audio"
   ]
  },
  {
   "cell_type": "code",
   "execution_count": 66,
   "metadata": {},
   "outputs": [],
   "source": [
    "def get_waveform_and_label(file_path):\n",
    "    label = get_label(file_path)\n",
    "    audio_binary = tf.io.read_file(file_path)\n",
    "    waveform = decode_audio(audio_binary)\n",
    "    return waveform, label\n",
    "\n",
    "## This function has some code from https://www.tensorflow.org/tutorials/audio/simple_audio"
   ]
  },
  {
   "cell_type": "markdown",
   "metadata": {},
   "source": [
    "Build the training set to extract the audio-label pairs. We create a tf.data.Dataset with Dataset.from_tensor_slices and Dataset.map, using get_waveform_and_label defined earlier."
   ]
  },
  {
   "cell_type": "code",
   "execution_count": 67,
   "metadata": {},
   "outputs": [],
   "source": [
    "AUTOTUNE = tf.data.AUTOTUNE\n",
    "\n",
    "files_ds = tf.data.Dataset.from_tensor_slices(train_files)\n",
    "\n",
    "waveform_ds = files_ds.map(\n",
    "    map_func=get_waveform_and_label,\n",
    "    num_parallel_calls=AUTOTUNE)"
   ]
  },
  {
   "cell_type": "markdown",
   "metadata": {},
   "source": [
    "## Waveform"
   ]
  },
  {
   "cell_type": "markdown",
   "metadata": {},
   "source": [
    "a **waveform** is a time series with the signal amplitude at each specific time, if we visualize one of those waveform samples we will get something like this:"
   ]
  },
  {
   "cell_type": "code",
   "execution_count": 68,
   "metadata": {},
   "outputs": [
    {
     "data": {
      "image/png": "[encoded data removed]",
      "text/plain": [
       "<Figure size 720x864 with 9 Axes>"
      ]
     },
     "metadata": {
      "needs_background": "light"
     },
     "output_type": "display_data"
    }
   ],
   "source": [
    "rows = 3\n",
    "cols = 3\n",
    "n = rows * cols\n",
    "fig, axes = plt.subplots(rows, cols, figsize=(10, 12))\n",
    "\n",
    "for i, (audio, label) in enumerate(waveform_ds.take(n)):\n",
    "  r = i // cols\n",
    "  c = i % cols\n",
    "  ax = axes[r][c]\n",
    "  ax.plot(audio.numpy())\n",
    "  ax.set_yticks(np.arange(-1.2, 1.2, 0.2))\n",
    "  label = label.numpy().decode('utf-8')\n",
    "  ax.set_title(label)\n",
    "\n",
    "plt.show()"
   ]
  },
  {
   "cell_type": "markdown",
   "metadata": {},
   "source": [
    "Intuitively one might consider modeling this data like a regular time series (e.g. stock price forecasting) using some kind of RNN model, in fact, this could be done, but since we are using audio signals, a more appropriate choice is to transform the waveform samples into **spectrograms.**"
   ]
  },
  {
   "cell_type": "markdown",
   "metadata": {},
   "source": [
    "## Spectrogram"
   ]
  },
  {
   "cell_type": "markdown",
   "metadata": {},
   "source": [
    "A Fourier transform (tf.signal.fft) converts a signal to its component frequencies, but loses all time information. In comparison, STFT (tf.signal.stft) splits the signal into windows of time and runs a Fourier transform on each window, preserving some time information, and returning a 2D tensor that you can run standard convolutions on."
   ]
  },
  {
   "cell_type": "code",
   "execution_count": 69,
   "metadata": {},
   "outputs": [],
   "source": [
    "def get_spectrogram(waveform):\n",
    "    # Zero-padding for an audio waveform with less than 16,000 samples.\n",
    "    input_len = 16000\n",
    "    waveform = waveform[:input_len]\n",
    "    zero_padding = tf.zeros(\n",
    "      [16000] - tf.shape(waveform),\n",
    "      dtype=tf.float32)\n",
    "    # Cast the waveform tensors' dtype to float32.\n",
    "    waveform = tf.cast(waveform, dtype=tf.float32)\n",
    "    \n",
    "    # Concatenate the waveform with `zero_padding`, which ensures all audio\n",
    "    # clips are of the same length.\n",
    "    equal_length = tf.concat([waveform, zero_padding], 0)\n",
    "    \n",
    "    # Convert the waveform to a spectrogram via a STFT.\n",
    "    spectrogram = tf.signal.stft(equal_length, frame_length=255, frame_step=128)\n",
    "    \n",
    "    # Obtain the magnitude of the STFT.\n",
    "    spectrogram = tf.abs(spectrogram)\n",
    "    \n",
    "    return spectrogram\n",
    "\n",
    "## This function has some code from https://www.tensorflow.org/tutorials/audio/simple_audio"
   ]
  },
  {
   "cell_type": "code",
   "execution_count": 70,
   "metadata": {},
   "outputs": [
    {
     "name": "stdout",
     "output_type": "stream",
     "text": [
      "Label: go\n",
      "Waveform shape: (16000,)\n",
      "Spectrogram shape: (124, 129)\n",
      "Audio playback\n"
     ]
    },
    {
     "data": {
      "text/html": [
       "\n",
       "                <audio  controls=\"controls\" >\n",
       "                    <source src=\"data:audio/wav;base64,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\" type=\"audio/wav\" />\n",
       "                    Your browser does not support the audio element.\n",
       "                </audio>\n",
       "              "
      ],
      "text/plain": [
       "<IPython.lib.display.Audio object>"
      ]
     },
     "execution_count": 70,
     "metadata": {},
     "output_type": "execute_result"
    }
   ],
   "source": [
    "for waveform, label in waveform_ds.take(1):\n",
    "    label = label.numpy().decode('utf-8')\n",
    "    spectrogram = get_spectrogram(waveform)\n",
    "\n",
    "print('Label:', label)\n",
    "print('Waveform shape:', waveform.shape)\n",
    "print('Spectrogram shape:', spectrogram.shape)\n",
    "print('Audio playback')\n",
    "ipd.Audio(waveform, rate=16000)"
   ]
  },
  {
   "cell_type": "markdown",
   "metadata": {},
   "source": [
    "A spectrogram is an image representation of the waveform signal. It allows you to visualize the amplitude as a function of frequency and time in the form of an image, where the 'x' axis represents time, the 'y' axis represents frequency, and the color represents the amplitude. It can be very useful when we want to evaluate the signal's frequency distribution over time. Below is the spectrogram representation of the waveform image."
   ]
  },
  {
   "cell_type": "code",
   "execution_count": 71,
   "metadata": {},
   "outputs": [],
   "source": [
    "def plot_spectrogram(spectrogram, ax):\n",
    "    if len(spectrogram.shape) > 2:\n",
    "        assert len(spectrogram.shape) == 3\n",
    "        spectrogram = np.squeeze(spectrogram, axis=-1)\n",
    "    # Convert the frequencies to log scale and transpose, so that the time is\n",
    "    # represented on the x-axis (columns).\n",
    "    # Add an epsilon to avoid taking a log of zero.\n",
    "    log_spec = np.log(spectrogram.T + np.finfo(float).eps)\n",
    "    height = log_spec.shape[0]\n",
    "    width = log_spec.shape[1]\n",
    "    X = np.linspace(0, np.size(spectrogram), num=width, dtype=int)\n",
    "    Y = range(height)\n",
    "    ax.pcolormesh(X, Y, log_spec)\n",
    "    \n",
    "## This function has some code from https://www.tensorflow.org/tutorials/audio/simple_audio"
   ]
  },
  {
   "cell_type": "markdown",
   "metadata": {},
   "source": [
    "A spectrogram is a graph that represents the concentration of the frequency of the audio data. This means the brighter color in the spectrogram has a more concentrated sound than the darker color in the spectrogram, where the sound is nearly empty."
   ]
  },
  {
   "cell_type": "code",
   "execution_count": 72,
   "metadata": {},
   "outputs": [
    {
     "data": {
      "image/png": "[encoded data removed]",
      "text/plain": [
       "<Figure size 864x576 with 2 Axes>"
      ]
     },
     "metadata": {
      "needs_background": "light"
     },
     "output_type": "display_data"
    }
   ],
   "source": [
    "fig, axes = plt.subplots(2, figsize=(12, 8))\n",
    "timescale = np.arange(waveform.shape[0])\n",
    "axes[0].plot(timescale, waveform.numpy())\n",
    "axes[0].set_title('Waveform')\n",
    "axes[0].set_xlim([0, 16000])\n",
    "\n",
    "plot_spectrogram(spectrogram.numpy(), axes[1])\n",
    "axes[1].set_title('Spectrogram')\n",
    "plt.show()"
   ]
  },
  {
   "cell_type": "markdown",
   "metadata": {},
   "source": [
    "After converting the audio file into spectrogram image, you can use a convolutional neural network (CNN) model to training the data. Since we want to use RNN, the spectrogram must be converted to mel spectrogram and later converted into mel frequency cepstral coeffiecients (MFCC). The **mel scale** is the scale of pitches felt by the listener present in the same distance from one another. **Mel spectrogram** is a spectrogram where spectrum frequencies are converted into mel scale. The db scale mel spectrogram is a spectrogram that creates a graph between log scaled frequency and pitches."
   ]
  },
  {
   "cell_type": "markdown",
   "metadata": {},
   "source": [
    "Before converting to mfccs, we have to convert the spectrogram from linear scale to mel scale by creating a manual function. In the tensorflow library, you can use [tf.signal.mfccs_from_log_mel_spectrograms](https://www.tensorflow.org/api_docs/python/tf/signal/mfccs_from_log_mel_spectrograms) to convert mel spectrograms to mfccs. In the tensorflow I/O module, we can do this automatically without creating our own function with [tfio.audio.melscale](https://www.tensorflow.org/io/api_docs/python/tfio/audio/melscale)"
   ]
  },
  {
   "cell_type": "markdown",
   "metadata": {},
   "source": [
    "<figure>\n",
    "    <center>\n",
    "    <img src=\"assets/rnn_audio_preprocessing_pipeline.png\">\n",
    "       <figcaption> Source: Dokumentasi Pribadi</figcaption>\n",
    "    </center>\n",
    "</figure>"
   ]
  },
  {
   "cell_type": "markdown",
   "metadata": {},
   "source": [
    "## Build the model"
   ]
  },
  {
   "cell_type": "markdown",
   "metadata": {},
   "source": [
    "Now that you already know how to preprocess audio files, you can explore what model architecture you want to implement. For further reference, you can see page [tensorflow_simple-audio](https://www.tensorflow.org/tutorials/audio/simple_audio) and page [microsoft_intro-audio](https://docs.microsoft.com/en-us/learn/modules/intro-audio-classification-tensorflow/). You can also see the documentation regarding the [librosa](https://librosa.org/doc/latest/index.html) library. Librosa is often used for preprocessing and feature extraction on audio datasets."
   ]
  },
  {
   "cell_type": "code",
   "execution_count": null,
   "metadata": {},
   "outputs": [],
   "source": [
    "# YOUR CODE HERE"
   ]
  },
  {
   "cell_type": "markdown",
   "metadata": {},
   "source": [
    "# 📝 Summary"
   ]
  },
  {
   "cell_type": "markdown",
   "metadata": {},
   "source": [
    "Finally, we have reached the end of this course. And to summarize what we have learned in general, here's a few points that cover the course :\n",
    "\n",
    "- Cleansing a text data is case-by-case process, but most common steps including: case folding, text cleansing and normalization, stemming, and remove stopwords.\n",
    "- Sentences must be tokenized and encoded to corresponding index number. This process can be done using keras `Tokenizer`\n",
    "- Sentences that have different length must be padded or truncated into the same length. This process can be done using keras `pad_sequences`\n",
    "- Instead of using positional index, Embedding layer is placed on the first layer of network since it can capture semantic meaning of a word.\n",
    "- GRU is computationally more efficient than LSTM, since it has fewer parameters but still use the gate mechanism.\n",
    "- A Bidirectional RNN is a combination of two RNNs training the network in opposite directions, one from the beginning to the end of a sequence, and the other, from the end to the beginning of a sequence. It helps in analyzing the future events by not limiting the model's learning to past and present.\n",
    "- To do audio classification with RNN, the data must be convert into MFCCs. It's a shorter process if we use CNN architecture because data preprocessing is only up to make spectogram images. "
   ]
  },
  {
   "cell_type": "markdown",
   "metadata": {},
   "source": [
    "# External Link\n",
    "\n",
    "- http://colah.github.io/posts/2015-09-NN-Types-FP/\n",
    "- https://www.tensorflow.org/tutorials/audio/simple_audio\n",
    "- https://docs.microsoft.com/en-us/learn/modules/intro-audio-classification-tensorflow/1-introduction \n",
    "- https://www.kdnuggets.com/2020/03/tensorflow-keras-tokenization-text-data-prep.html"
   ]
  },
  {
   "cell_type": "markdown",
   "metadata": {},
   "source": [
    "**Dataset Citation**\n",
    "\n",
    "Muhammad Okky Ibrohim and Indra Budi. 2019. Multi-label Hate Speech and Abusive Language Detection in Indonesian Twitter. In ALW3: 3rd Workshop on Abusive Language Online, 46-57. [github repository](https://github.com/okkyibrohim/id-multi-label-hate-speech-and-abusive-language-detection/blob/master/new_kamusalay.csv)\n",
    "\n",
    "Rofiqoh, U., Perdana, R.S., & Fauzi, M.A. (2017). Analisis Sentimen Tingkat Kepuasan Pengguna Penyedia Layanan Telekomunikasi Seluler Indonesia Pada Twitter Dengan Metode Support Vector Machine dan Lexicon Based Features. Jurnal Pengembangan Teknologi Informasi Dan Ilmu Komputer, 1(12), 1725-1732. Diambil dari http://j-ptiik.ub.ac.id/index.php/j-ptiik/article/view/628\n",
    "\n",
    "Tala, F. Z. (2003). A Study of Stemming Effects on Information Retrieval in Bahasa Indonesia. Thesis. Universiteti van Amsterdam The Netherlands. [pdf](https://eprints.illc.uva.nl/id/eprint/740/1/MoL-2003-02.text.pdf)"
   ]
  }
 ],
 "metadata": {
  "kernelspec": {
   "display_name": "telkom_amoeba",
   "language": "python",
   "name": "telkom_amoeba"
  },
  "language_info": {
   "codemirror_mode": {
    "name": "ipython",
    "version": 3
   },
   "file_extension": ".py",
   "mimetype": "text/x-python",
   "name": "python",
   "nbconvert_exporter": "python",
   "pygments_lexer": "ipython3",
   "version": "3.9.9"
  },
  "toc": {
   "base_numbering": 1,
   "nav_menu": {},
   "number_sections": true,
   "sideBar": true,
   "skip_h1_title": false,
   "title_cell": "Table of Contents",
   "title_sidebar": "Contents",
   "toc_cell": false,
   "toc_position": {},
   "toc_section_display": true,
   "toc_window_display": false
  }
 },
 "nbformat": 4,
 "nbformat_minor": 2
}
